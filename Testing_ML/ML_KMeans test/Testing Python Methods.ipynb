{
 "cells": [
  {
   "cell_type": "code",
   "execution_count": null,
   "id": "b3d2b2ee",
   "metadata": {},
   "outputs": [],
   "source": [
    "cities = [\"fifty\",\"two\",\"one\"]\n",
    "\n",
    "testing = [\"seven\", \"five\",\"one\"]\n",
    "\n",
    "matches = []\n",
    "\n",
    "for city in cities:\n",
    "    for test in testing:\n",
    "        if test == city:\n",
    "            matches.append(city)\n",
    "            print (matches)"
   ]
  },
  {
   "cell_type": "code",
   "execution_count": 4,
   "id": "b9ce6d2b",
   "metadata": {},
   "outputs": [],
   "source": [
    "sentences = [\"this, is, a, test\",\"this test if it's true\"]\n",
    "\n",
    "checks = [\"this\", \"test\"]"
   ]
  },
  {
   "cell_type": "code",
   "execution_count": null,
   "id": "a7e4ac8a",
   "metadata": {},
   "outputs": [],
   "source": [
    "test = sentence.split(', ')"
   ]
  },
  {
   "cell_type": "code",
   "execution_count": 5,
   "id": "b10e92b0",
   "metadata": {},
   "outputs": [
    {
     "data": {
      "text/plain": [
       "0         this, is, a, test\n",
       "1    this test if it's true\n",
       "dtype: object"
      ]
     },
     "execution_count": 5,
     "metadata": {},
     "output_type": "execute_result"
    }
   ],
   "source": [
    "import pandas as pd\n",
    "\n",
    "test1 = pd.Series(sentences)\n",
    "test1"
   ]
  },
  {
   "cell_type": "code",
   "execution_count": 6,
   "id": "bf931792",
   "metadata": {},
   "outputs": [
    {
     "name": "stdout",
     "output_type": "stream",
     "text": [
      "this\n",
      "this\n",
      "test\n",
      "test\n"
     ]
    }
   ],
   "source": [
    "for check in checks:\n",
    "    for sentence in sentences:\n",
    "\n",
    "        if(any(test1.str.contains(check))):\n",
    "\n",
    "            print(check)\n"
   ]
  },
  {
   "cell_type": "code",
   "execution_count": 9,
   "id": "25eedc28",
   "metadata": {},
   "outputs": [
    {
     "name": "stdout",
     "output_type": "stream",
     "text": [
      "yes\n"
     ]
    }
   ],
   "source": [
    "    if(any(test1.str.contains(\"t\"))):\n",
    "        print(\"yes\")"
   ]
  },
  {
   "cell_type": "code",
   "execution_count": null,
   "id": "363c8631",
   "metadata": {},
   "outputs": [],
   "source": []
  }
 ],
 "metadata": {
  "kernelspec": {
   "display_name": "Python 3 (ipykernel)",
   "language": "python",
   "name": "python3"
  },
  "language_info": {
   "codemirror_mode": {
    "name": "ipython",
    "version": 3
   },
   "file_extension": ".py",
   "mimetype": "text/x-python",
   "name": "python",
   "nbconvert_exporter": "python",
   "pygments_lexer": "ipython3",
   "version": "3.9.7"
  }
 },
 "nbformat": 4,
 "nbformat_minor": 5
}
