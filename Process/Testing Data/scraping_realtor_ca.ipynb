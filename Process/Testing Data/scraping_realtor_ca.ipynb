{
 "cells": [
  {
   "cell_type": "code",
   "execution_count": 9,
   "id": "3d0adf2b",
   "metadata": {},
   "outputs": [],
   "source": [
    "#Import Dependencies\n",
    "\n",
    "from splinter import Browser\n",
    "from bs4 import BeautifulSoup as soup\n",
    "from webdriver_manager.chrome import ChromeDriverManager\n",
    "import pandas as pd\n",
    "import os\n",
    "import time"
   ]
  },
  {
   "cell_type": "code",
   "execution_count": 10,
   "id": "10033037",
   "metadata": {},
   "outputs": [
    {
     "name": "stderr",
     "output_type": "stream",
     "text": [
      "[WDM] - \n",
      "\n",
      "[WDM] - ====== WebDriver manager ======\n",
      "[WDM] - Current google-chrome version is 97.0.4692\n",
      "[WDM] - Get LATEST driver version for 97.0.4692\n",
      "[WDM] - Driver [C:\\Users\\User\\.wdm\\drivers\\chromedriver\\win32\\97.0.4692.71\\chromedriver.exe] found in cache\n"
     ]
    }
   ],
   "source": [
    "executable_path = {'executable_path': ChromeDriverManager().install()}\n",
    "browser = Browser('chrome', **executable_path, headless=False)"
   ]
  },
  {
   "cell_type": "code",
   "execution_count": 11,
   "id": "b894c9c2",
   "metadata": {},
   "outputs": [
    {
     "data": {
      "text/plain": [
       "False"
      ]
     },
     "execution_count": 11,
     "metadata": {},
     "output_type": "execute_result"
    }
   ],
   "source": [
    "# Visit the webpage\n",
    "url = 'https://www.realtor.ca/map#ZoomLevel=4&Center=54.920828%2C-99.316406&LatitudeMax=70.53588&LongitudeMax=-29.70703&LatitudeMin=29.56390&LongitudeMin=-168.92578&view=list&Sort=6-D&PropertyTypeGroupID=1&PropertySearchTypeId=1&TransactionTypeId=2&Currency=CAD'\n",
    "browser.visit(url)\n",
    "# Optional delay for loading the page\n",
    "browser.is_element_present_by_css('div.list_text', wait_time=1)"
   ]
  },
  {
   "cell_type": "code",
   "execution_count": 31,
   "id": "6b460d40",
   "metadata": {},
   "outputs": [],
   "source": [
    "df = []\n",
    "def scrapping_function(url):\n",
    "    browser.visit(url)\n",
    "    time.sleep(5)\n",
    "    html = browser.html\n",
    "    soup = BeautifulSoup(html, \"html.parser\")\n",
    "    data = soup.find_all(class_=\"cardCon\")\n",
    "    for i, elem in enumerate(data):\n",
    "        price = data[i].find(class_=\"listingCardPrice\").get_text()\n",
    "        address = data[i].find(class_=\"listingCardAddress\").get_text()\n",
    "        rooms = data[i].find_all(class_=\"listingCardIconNum\")\n",
    "        bedrooms = rooms[0].get_text()\n",
    "        bathrooms = rooms[1].get_text()\n",
    "        df.append({\"price\" : price, \"address\" : address, \"bedrooms\" : bedrooms, \"bathrooms\":bathrooms})\n",
    "        \n",
    "        "
   ]
  },
  {
   "cell_type": "code",
   "execution_count": 32,
   "id": "fb1a6d2c",
   "metadata": {},
   "outputs": [],
   "source": [
    "scrapping_function(url)"
   ]
  },
  {
   "cell_type": "code",
   "execution_count": 34,
   "id": "98769c56",
   "metadata": {},
   "outputs": [
    {
     "data": {
      "text/plain": [
       "[{'price': '$999,900 ',\n",
       "  'address': '77 CHRISTIE Street, Hamilton, Ontario ',\n",
       "  'bedrooms': '3 + 2',\n",
       "  'bathrooms': '4'},\n",
       " {'price': '$499,900 ',\n",
       "  'address': \"17 Rue des Frênes, Sainte-Brigide-d'Iberville, Quebec \",\n",
       "  'bedrooms': '5',\n",
       "  'bathrooms': '2'},\n",
       " {'price': '$419,900 ',\n",
       "  'address': '131 Rue du Grand-Hunier, Gatineau (Aylmer), Quebec ',\n",
       "  'bedrooms': '2',\n",
       "  'bathrooms': '1'},\n",
       " {'price': '$875,000 ',\n",
       "  'address': '5450 Boul. Champlain, Montréal (Verdun/Île-des-Soeurs), Quebec ',\n",
       "  'bedrooms': '6',\n",
       "  'bathrooms': '2'},\n",
       " {'price': '$564,900 ',\n",
       "  'address': '7323 CHIVERS CR SW, Edmonton, Alberta ',\n",
       "  'bedrooms': '3',\n",
       "  'bathrooms': '3'},\n",
       " {'price': '$449,900 ',\n",
       "  'address': '#9 1251 RUTHERFORD RD SW, Edmonton, Alberta ',\n",
       "  'bedrooms': '2',\n",
       "  'bathrooms': '3'},\n",
       " {'price': '$206,900 ',\n",
       "  'address': '#418 226 Macewan RD SW, Edmonton, Alberta ',\n",
       "  'bedrooms': '2',\n",
       "  'bathrooms': '2'},\n",
       " {'price': '$595,000 ',\n",
       "  'address': '4916 114B ST NW, Edmonton, Alberta ',\n",
       "  'bedrooms': '5',\n",
       "  'bathrooms': '3'},\n",
       " {'price': '$139,000 ',\n",
       "  'address': 'Address not available',\n",
       "  'bedrooms': '2',\n",
       "  'bathrooms': '2'},\n",
       " {'price': '$354,900 ',\n",
       "  'address': '13412 FORT RD NW, Edmonton, Alberta ',\n",
       "  'bedrooms': '5',\n",
       "  'bathrooms': '2'},\n",
       " {'price': '$262,998 ',\n",
       "  'address': 'Address not available',\n",
       "  'bedrooms': '2',\n",
       "  'bathrooms': '3'},\n",
       " {'price': '$524,888 ',\n",
       "  'address': '22 DALY PL, Fort Saskatchewan, Alberta ',\n",
       "  'bedrooms': '3',\n",
       "  'bathrooms': '3'}]"
      ]
     },
     "execution_count": 34,
     "metadata": {},
     "output_type": "execute_result"
    }
   ],
   "source": [
    "df"
   ]
  },
  {
   "cell_type": "code",
   "execution_count": 35,
   "id": "0b638966",
   "metadata": {},
   "outputs": [],
   "source": [
    "df_realestate = pd.DataFrame(df)"
   ]
  },
  {
   "cell_type": "code",
   "execution_count": 36,
   "id": "e3f66574",
   "metadata": {},
   "outputs": [
    {
     "data": {
      "text/html": [
       "<div>\n",
       "<style scoped>\n",
       "    .dataframe tbody tr th:only-of-type {\n",
       "        vertical-align: middle;\n",
       "    }\n",
       "\n",
       "    .dataframe tbody tr th {\n",
       "        vertical-align: top;\n",
       "    }\n",
       "\n",
       "    .dataframe thead th {\n",
       "        text-align: right;\n",
       "    }\n",
       "</style>\n",
       "<table border=\"1\" class=\"dataframe\">\n",
       "  <thead>\n",
       "    <tr style=\"text-align: right;\">\n",
       "      <th></th>\n",
       "      <th>price</th>\n",
       "      <th>address</th>\n",
       "      <th>bedrooms</th>\n",
       "      <th>bathrooms</th>\n",
       "    </tr>\n",
       "  </thead>\n",
       "  <tbody>\n",
       "    <tr>\n",
       "      <th>0</th>\n",
       "      <td>$999,900</td>\n",
       "      <td>77 CHRISTIE Street, Hamilton, Ontario</td>\n",
       "      <td>3 + 2</td>\n",
       "      <td>4</td>\n",
       "    </tr>\n",
       "    <tr>\n",
       "      <th>1</th>\n",
       "      <td>$499,900</td>\n",
       "      <td>17 Rue des Frênes, Sainte-Brigide-d'Iberville,...</td>\n",
       "      <td>5</td>\n",
       "      <td>2</td>\n",
       "    </tr>\n",
       "    <tr>\n",
       "      <th>2</th>\n",
       "      <td>$419,900</td>\n",
       "      <td>131 Rue du Grand-Hunier, Gatineau (Aylmer), Qu...</td>\n",
       "      <td>2</td>\n",
       "      <td>1</td>\n",
       "    </tr>\n",
       "    <tr>\n",
       "      <th>3</th>\n",
       "      <td>$875,000</td>\n",
       "      <td>5450 Boul. Champlain, Montréal (Verdun/Île-des...</td>\n",
       "      <td>6</td>\n",
       "      <td>2</td>\n",
       "    </tr>\n",
       "    <tr>\n",
       "      <th>4</th>\n",
       "      <td>$564,900</td>\n",
       "      <td>7323 CHIVERS CR SW, Edmonton, Alberta</td>\n",
       "      <td>3</td>\n",
       "      <td>3</td>\n",
       "    </tr>\n",
       "  </tbody>\n",
       "</table>\n",
       "</div>"
      ],
      "text/plain": [
       "       price                                            address bedrooms  \\\n",
       "0  $999,900              77 CHRISTIE Street, Hamilton, Ontario     3 + 2   \n",
       "1  $499,900   17 Rue des Frênes, Sainte-Brigide-d'Iberville,...        5   \n",
       "2  $419,900   131 Rue du Grand-Hunier, Gatineau (Aylmer), Qu...        2   \n",
       "3  $875,000   5450 Boul. Champlain, Montréal (Verdun/Île-des...        6   \n",
       "4  $564,900              7323 CHIVERS CR SW, Edmonton, Alberta         3   \n",
       "\n",
       "  bathrooms  \n",
       "0         4  \n",
       "1         2  \n",
       "2         1  \n",
       "3         2  \n",
       "4         3  "
      ]
     },
     "execution_count": 36,
     "metadata": {},
     "output_type": "execute_result"
    }
   ],
   "source": [
    "df_realestate.head()"
   ]
  },
  {
   "cell_type": "code",
   "execution_count": null,
   "id": "70a1de97",
   "metadata": {},
   "outputs": [],
   "source": []
  }
 ],
 "metadata": {
  "kernelspec": {
   "display_name": "Python 3",
   "language": "python",
   "name": "python3"
  },
  "language_info": {
   "codemirror_mode": {
    "name": "ipython",
    "version": 3
   },
   "file_extension": ".py",
   "mimetype": "text/x-python",
   "name": "python",
   "nbconvert_exporter": "python",
   "pygments_lexer": "ipython3",
   "version": "3.9.4"
  }
 },
 "nbformat": 4,
 "nbformat_minor": 5
}
