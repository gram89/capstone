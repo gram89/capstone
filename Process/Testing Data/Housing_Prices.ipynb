{
 "cells": [
  {
   "cell_type": "code",
   "execution_count": 1,
   "id": "0a248c18",
   "metadata": {},
   "outputs": [],
   "source": [
    "# import dependancies\n",
    "import pandas as pd"
   ]
  },
  {
   "cell_type": "code",
   "execution_count": 2,
   "id": "7d85c1e0",
   "metadata": {},
   "outputs": [],
   "source": [
    "xls = pd.ExcelFile('Resources/Not_Seasonally_Adjusted_RealEstate_Canada.xlsx')"
   ]
  },
  {
   "cell_type": "code",
   "execution_count": 3,
   "id": "5a997edf",
   "metadata": {},
   "outputs": [],
   "source": [
    "# Read multiple sheets into one DataFrame\n",
    "df = pd.concat(pd.read_excel(xls, sheet_name=None), ignore_index=False)"
   ]
  },
  {
   "cell_type": "code",
   "execution_count": 4,
   "id": "5a6a1d5b",
   "metadata": {},
   "outputs": [],
   "source": [
    "# Move sheet name from index to column and rename column to region\n",
    "df.reset_index(inplace=True)\n",
    "df = df.rename(columns={'level_0':'Region'})"
   ]
  },
  {
   "cell_type": "code",
   "execution_count": 5,
   "id": "e213486f",
   "metadata": {},
   "outputs": [],
   "source": [
    "# Delete column level_1\n",
    "df = df.drop(['level_1'], axis = 1)"
   ]
  },
  {
   "cell_type": "code",
   "execution_count": 6,
   "id": "3207e4e9",
   "metadata": {},
   "outputs": [
    {
     "data": {
      "text/html": [
       "<div>\n",
       "<style scoped>\n",
       "    .dataframe tbody tr th:only-of-type {\n",
       "        vertical-align: middle;\n",
       "    }\n",
       "\n",
       "    .dataframe tbody tr th {\n",
       "        vertical-align: top;\n",
       "    }\n",
       "\n",
       "    .dataframe thead th {\n",
       "        text-align: right;\n",
       "    }\n",
       "</style>\n",
       "<table border=\"1\" class=\"dataframe\">\n",
       "  <thead>\n",
       "    <tr style=\"text-align: right;\">\n",
       "      <th></th>\n",
       "      <th>Region</th>\n",
       "      <th>Date</th>\n",
       "      <th>Composite_HPI</th>\n",
       "      <th>Single_Family_HPI</th>\n",
       "      <th>One_Storey_HPI</th>\n",
       "      <th>Two_Storey_HPI</th>\n",
       "      <th>Townhouse_HPI</th>\n",
       "      <th>Apartment_HPI</th>\n",
       "      <th>Composite_Benchmark</th>\n",
       "      <th>Single_Family_Benchmark</th>\n",
       "      <th>One_Storey_Benchmark</th>\n",
       "      <th>Two_Storey_Benchmark</th>\n",
       "      <th>Townhouse_Benchmark</th>\n",
       "      <th>Apartment_Benchmark</th>\n",
       "    </tr>\n",
       "  </thead>\n",
       "  <tbody>\n",
       "    <tr>\n",
       "      <th>0</th>\n",
       "      <td>Aggregate</td>\n",
       "      <td>2005-01-01</td>\n",
       "      <td>100.0</td>\n",
       "      <td>100.0</td>\n",
       "      <td>100.0</td>\n",
       "      <td>100.0</td>\n",
       "      <td>100.0</td>\n",
       "      <td>100.0</td>\n",
       "      <td>241700</td>\n",
       "      <td>258600</td>\n",
       "      <td>211700</td>\n",
       "      <td>297700</td>\n",
       "      <td>204700.0</td>\n",
       "      <td>186300.0</td>\n",
       "    </tr>\n",
       "    <tr>\n",
       "      <th>1</th>\n",
       "      <td>Aggregate</td>\n",
       "      <td>2005-02-01</td>\n",
       "      <td>101.0</td>\n",
       "      <td>101.0</td>\n",
       "      <td>101.0</td>\n",
       "      <td>100.9</td>\n",
       "      <td>100.8</td>\n",
       "      <td>101.0</td>\n",
       "      <td>244100</td>\n",
       "      <td>261200</td>\n",
       "      <td>213800</td>\n",
       "      <td>300400</td>\n",
       "      <td>206300.0</td>\n",
       "      <td>188200.0</td>\n",
       "    </tr>\n",
       "    <tr>\n",
       "      <th>2</th>\n",
       "      <td>Aggregate</td>\n",
       "      <td>2005-03-01</td>\n",
       "      <td>101.9</td>\n",
       "      <td>102.1</td>\n",
       "      <td>102.3</td>\n",
       "      <td>102.0</td>\n",
       "      <td>101.4</td>\n",
       "      <td>101.5</td>\n",
       "      <td>246300</td>\n",
       "      <td>264000</td>\n",
       "      <td>216500</td>\n",
       "      <td>303700</td>\n",
       "      <td>207600.0</td>\n",
       "      <td>189100.0</td>\n",
       "    </tr>\n",
       "    <tr>\n",
       "      <th>3</th>\n",
       "      <td>Aggregate</td>\n",
       "      <td>2005-04-01</td>\n",
       "      <td>102.9</td>\n",
       "      <td>103.1</td>\n",
       "      <td>103.4</td>\n",
       "      <td>102.8</td>\n",
       "      <td>102.1</td>\n",
       "      <td>102.3</td>\n",
       "      <td>248700</td>\n",
       "      <td>266600</td>\n",
       "      <td>218900</td>\n",
       "      <td>306100</td>\n",
       "      <td>209000.0</td>\n",
       "      <td>190600.0</td>\n",
       "    </tr>\n",
       "    <tr>\n",
       "      <th>4</th>\n",
       "      <td>Aggregate</td>\n",
       "      <td>2005-05-01</td>\n",
       "      <td>103.6</td>\n",
       "      <td>103.8</td>\n",
       "      <td>104.3</td>\n",
       "      <td>103.5</td>\n",
       "      <td>102.9</td>\n",
       "      <td>103.0</td>\n",
       "      <td>250400</td>\n",
       "      <td>268400</td>\n",
       "      <td>220800</td>\n",
       "      <td>308200</td>\n",
       "      <td>210600.0</td>\n",
       "      <td>191900.0</td>\n",
       "    </tr>\n",
       "  </tbody>\n",
       "</table>\n",
       "</div>"
      ],
      "text/plain": [
       "      Region       Date  Composite_HPI  Single_Family_HPI  One_Storey_HPI  \\\n",
       "0  Aggregate 2005-01-01          100.0              100.0           100.0   \n",
       "1  Aggregate 2005-02-01          101.0              101.0           101.0   \n",
       "2  Aggregate 2005-03-01          101.9              102.1           102.3   \n",
       "3  Aggregate 2005-04-01          102.9              103.1           103.4   \n",
       "4  Aggregate 2005-05-01          103.6              103.8           104.3   \n",
       "\n",
       "   Two_Storey_HPI  Townhouse_HPI  Apartment_HPI  Composite_Benchmark  \\\n",
       "0           100.0          100.0          100.0               241700   \n",
       "1           100.9          100.8          101.0               244100   \n",
       "2           102.0          101.4          101.5               246300   \n",
       "3           102.8          102.1          102.3               248700   \n",
       "4           103.5          102.9          103.0               250400   \n",
       "\n",
       "   Single_Family_Benchmark  One_Storey_Benchmark  Two_Storey_Benchmark  \\\n",
       "0                   258600                211700                297700   \n",
       "1                   261200                213800                300400   \n",
       "2                   264000                216500                303700   \n",
       "3                   266600                218900                306100   \n",
       "4                   268400                220800                308200   \n",
       "\n",
       "   Townhouse_Benchmark  Apartment_Benchmark  \n",
       "0             204700.0             186300.0  \n",
       "1             206300.0             188200.0  \n",
       "2             207600.0             189100.0  \n",
       "3             209000.0             190600.0  \n",
       "4             210600.0             191900.0  "
      ]
     },
     "execution_count": 6,
     "metadata": {},
     "output_type": "execute_result"
    }
   ],
   "source": [
    "df.head()"
   ]
  },
  {
   "cell_type": "code",
   "execution_count": 11,
   "id": "989e947b",
   "metadata": {},
   "outputs": [
    {
     "data": {
      "text/plain": [
       "(9947, 14)"
      ]
     },
     "execution_count": 11,
     "metadata": {},
     "output_type": "execute_result"
    }
   ],
   "source": [
    "df.shape"
   ]
  },
  {
   "cell_type": "code",
   "execution_count": 10,
   "id": "f3af4989",
   "metadata": {},
   "outputs": [],
   "source": [
    "# Save the cleaned file to csv\n",
    "df.to_csv('Housing_Prices_cleaned.csv')"
   ]
  },
  {
   "cell_type": "code",
   "execution_count": null,
   "id": "18cf724d",
   "metadata": {},
   "outputs": [],
   "source": []
  }
 ],
 "metadata": {
  "kernelspec": {
   "display_name": "Python 3",
   "language": "python",
   "name": "python3"
  },
  "language_info": {
   "codemirror_mode": {
    "name": "ipython",
    "version": 3
   },
   "file_extension": ".py",
   "mimetype": "text/x-python",
   "name": "python",
   "nbconvert_exporter": "python",
   "pygments_lexer": "ipython3",
   "version": "3.7.10"
  }
 },
 "nbformat": 4,
 "nbformat_minor": 5
}
