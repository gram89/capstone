{
 "cells": [
  {
   "cell_type": "code",
   "execution_count": 1,
   "id": "1fb6e474",
   "metadata": {
    "scrolled": true
   },
   "outputs": [],
   "source": [
    "import pandas as pd\n",
    "import numpy as np\n",
    "import pandas as pd\n",
    "from pathlib import Path\n",
    "from collections import Counter\n",
    "from sklearn.preprocessing import MinMaxScaler, LabelEncoder"
   ]
  },
  {
   "cell_type": "code",
   "execution_count": 2,
   "id": "9aeae345",
   "metadata": {},
   "outputs": [
    {
     "data": {
      "text/html": [
       "<div>\n",
       "<style scoped>\n",
       "    .dataframe tbody tr th:only-of-type {\n",
       "        vertical-align: middle;\n",
       "    }\n",
       "\n",
       "    .dataframe tbody tr th {\n",
       "        vertical-align: top;\n",
       "    }\n",
       "\n",
       "    .dataframe thead th {\n",
       "        text-align: right;\n",
       "    }\n",
       "</style>\n",
       "<table border=\"1\" class=\"dataframe\">\n",
       "  <thead>\n",
       "    <tr style=\"text-align: right;\">\n",
       "      <th></th>\n",
       "      <th>Unnamed: 0</th>\n",
       "      <th>Unnamed: 0.1</th>\n",
       "      <th>Address</th>\n",
       "      <th>Price</th>\n",
       "      <th>Beds</th>\n",
       "      <th>Baths</th>\n",
       "      <th>City</th>\n",
       "      <th>Area</th>\n",
       "      <th>Street</th>\n",
       "      <th>Description</th>\n",
       "      <th>Postal_Code</th>\n",
       "    </tr>\n",
       "  </thead>\n",
       "  <tbody>\n",
       "    <tr>\n",
       "      <th>0</th>\n",
       "      <td>0</td>\n",
       "      <td>0</td>\n",
       "      <td>2323 Confederation Pkwy 1102</td>\n",
       "      <td>430000</td>\n",
       "      <td>2</td>\n",
       "      <td>2</td>\n",
       "      <td>Mississauga</td>\n",
       "      <td>Cooksville</td>\n",
       "      <td>Confederation Pkwy</td>\n",
       "      <td>Beautiful Bright And Spacious Condo Unit 2 Bed...</td>\n",
       "      <td>L5B 1N1</td>\n",
       "    </tr>\n",
       "    <tr>\n",
       "      <th>1</th>\n",
       "      <td>1</td>\n",
       "      <td>1</td>\n",
       "      <td>816 Lansdowne Ave 411</td>\n",
       "      <td>598000</td>\n",
       "      <td>2</td>\n",
       "      <td>1</td>\n",
       "      <td>Toronto</td>\n",
       "      <td>Dovercourt-Wallace Emerson-Junction</td>\n",
       "      <td>Lansdowne Ave</td>\n",
       "      <td>Large Renovated One Bedroom+Den 646 Sf! Great ...</td>\n",
       "      <td>M6H 3Z6</td>\n",
       "    </tr>\n",
       "    <tr>\n",
       "      <th>2</th>\n",
       "      <td>2</td>\n",
       "      <td>6</td>\n",
       "      <td>109 Lake St</td>\n",
       "      <td>750000</td>\n",
       "      <td>4</td>\n",
       "      <td>2</td>\n",
       "      <td>St. Catharines</td>\n",
       "      <td>NaN</td>\n",
       "      <td>NaN</td>\n",
       "      <td>Investors!! Maintenance-Free Solid 4 Plex-Full...</td>\n",
       "      <td>L2R 5Y5</td>\n",
       "    </tr>\n",
       "    <tr>\n",
       "      <th>3</th>\n",
       "      <td>3</td>\n",
       "      <td>7</td>\n",
       "      <td>321 Queenston Rd</td>\n",
       "      <td>1899000</td>\n",
       "      <td>4</td>\n",
       "      <td>4</td>\n",
       "      <td>Niagara-on-the-Lake</td>\n",
       "      <td>NaN</td>\n",
       "      <td>NaN</td>\n",
       "      <td>Welcome To 321 Queenston Rd, Overlooking Viney...</td>\n",
       "      <td>L8K 3P3</td>\n",
       "    </tr>\n",
       "    <tr>\n",
       "      <th>4</th>\n",
       "      <td>4</td>\n",
       "      <td>8</td>\n",
       "      <td>650 Upper Sherman Ave</td>\n",
       "      <td>899000</td>\n",
       "      <td>4</td>\n",
       "      <td>2</td>\n",
       "      <td>Hamilton</td>\n",
       "      <td>Burkholme</td>\n",
       "      <td>Upper Sherman Ave</td>\n",
       "      <td>Absolutely Fantastic Opportunity !!! Detach Ho...</td>\n",
       "      <td>L8V 3M7</td>\n",
       "    </tr>\n",
       "    <tr>\n",
       "      <th>...</th>\n",
       "      <td>...</td>\n",
       "      <td>...</td>\n",
       "      <td>...</td>\n",
       "      <td>...</td>\n",
       "      <td>...</td>\n",
       "      <td>...</td>\n",
       "      <td>...</td>\n",
       "      <td>...</td>\n",
       "      <td>...</td>\n",
       "      <td>...</td>\n",
       "      <td>...</td>\n",
       "    </tr>\n",
       "    <tr>\n",
       "      <th>3247</th>\n",
       "      <td>3751</td>\n",
       "      <td>3967</td>\n",
       "      <td>638 Mcgogy Rd 26</td>\n",
       "      <td>47900</td>\n",
       "      <td>2</td>\n",
       "      <td>1</td>\n",
       "      <td>Dryden</td>\n",
       "      <td>NaN</td>\n",
       "      <td>NaN</td>\n",
       "      <td>2 Bed, 1 Bath Mobile Home In A Very Well Maint...</td>\n",
       "      <td>P8N 3H6</td>\n",
       "    </tr>\n",
       "    <tr>\n",
       "      <th>3248</th>\n",
       "      <td>3752</td>\n",
       "      <td>3968</td>\n",
       "      <td>176 Church St</td>\n",
       "      <td>1199000</td>\n",
       "      <td>6</td>\n",
       "      <td>3</td>\n",
       "      <td>Brampton</td>\n",
       "      <td>Brampton North</td>\n",
       "      <td>Church St</td>\n",
       "      <td>Excellent Location Detached House Close To All...</td>\n",
       "      <td>L6J 1H3</td>\n",
       "    </tr>\n",
       "    <tr>\n",
       "      <th>3249</th>\n",
       "      <td>3753</td>\n",
       "      <td>3969</td>\n",
       "      <td>283 Barrie Rd</td>\n",
       "      <td>1349000</td>\n",
       "      <td>4</td>\n",
       "      <td>4</td>\n",
       "      <td>Barrie Rd</td>\n",
       "      <td>NaN</td>\n",
       "      <td>NaN</td>\n",
       "      <td>Luxury, Space &amp; Strength All-In-1 Home Designe...</td>\n",
       "      <td>L3V 3C1</td>\n",
       "    </tr>\n",
       "    <tr>\n",
       "      <th>3250</th>\n",
       "      <td>3754</td>\n",
       "      <td>3970</td>\n",
       "      <td>4 Hughes St</td>\n",
       "      <td>1429995</td>\n",
       "      <td>4</td>\n",
       "      <td>2</td>\n",
       "      <td>NaN</td>\n",
       "      <td>Oak Ridges</td>\n",
       "      <td>Hughes St</td>\n",
       "      <td>Property With High Development Potential, Area...</td>\n",
       "      <td>L4E 1A5</td>\n",
       "    </tr>\n",
       "    <tr>\n",
       "      <th>3251</th>\n",
       "      <td>3756</td>\n",
       "      <td>3972</td>\n",
       "      <td>90 Crosby Ave</td>\n",
       "      <td>2289000</td>\n",
       "      <td>7</td>\n",
       "      <td>4</td>\n",
       "      <td>NaN</td>\n",
       "      <td>Crosby</td>\n",
       "      <td>Crosby Ave</td>\n",
       "      <td>4 Units [3 Two Bedrooms( Main Building)  &amp; 1 O...</td>\n",
       "      <td>L4C 3C1</td>\n",
       "    </tr>\n",
       "  </tbody>\n",
       "</table>\n",
       "<p>3252 rows × 11 columns</p>\n",
       "</div>"
      ],
      "text/plain": [
       "      Unnamed: 0  Unnamed: 0.1                       Address    Price  Beds  \\\n",
       "0              0             0  2323 Confederation Pkwy 1102   430000     2   \n",
       "1              1             1         816 Lansdowne Ave 411   598000     2   \n",
       "2              2             6                   109 Lake St   750000     4   \n",
       "3              3             7              321 Queenston Rd  1899000     4   \n",
       "4              4             8         650 Upper Sherman Ave   899000     4   \n",
       "...          ...           ...                           ...      ...   ...   \n",
       "3247        3751          3967              638 Mcgogy Rd 26    47900     2   \n",
       "3248        3752          3968                 176 Church St  1199000     6   \n",
       "3249        3753          3969                 283 Barrie Rd  1349000     4   \n",
       "3250        3754          3970                   4 Hughes St  1429995     4   \n",
       "3251        3756          3972                 90 Crosby Ave  2289000     7   \n",
       "\n",
       "      Baths                 City                                 Area  \\\n",
       "0         2          Mississauga                           Cooksville   \n",
       "1         1              Toronto  Dovercourt-Wallace Emerson-Junction   \n",
       "2         2       St. Catharines                                  NaN   \n",
       "3         4  Niagara-on-the-Lake                                  NaN   \n",
       "4         2             Hamilton                            Burkholme   \n",
       "...     ...                  ...                                  ...   \n",
       "3247      1               Dryden                                  NaN   \n",
       "3248      3             Brampton                       Brampton North   \n",
       "3249      4            Barrie Rd                                  NaN   \n",
       "3250      2                  NaN                           Oak Ridges   \n",
       "3251      4                  NaN                               Crosby   \n",
       "\n",
       "                  Street                                        Description  \\\n",
       "0     Confederation Pkwy  Beautiful Bright And Spacious Condo Unit 2 Bed...   \n",
       "1          Lansdowne Ave  Large Renovated One Bedroom+Den 646 Sf! Great ...   \n",
       "2                    NaN  Investors!! Maintenance-Free Solid 4 Plex-Full...   \n",
       "3                    NaN  Welcome To 321 Queenston Rd, Overlooking Viney...   \n",
       "4      Upper Sherman Ave  Absolutely Fantastic Opportunity !!! Detach Ho...   \n",
       "...                  ...                                                ...   \n",
       "3247                 NaN  2 Bed, 1 Bath Mobile Home In A Very Well Maint...   \n",
       "3248           Church St  Excellent Location Detached House Close To All...   \n",
       "3249                 NaN  Luxury, Space & Strength All-In-1 Home Designe...   \n",
       "3250           Hughes St  Property With High Development Potential, Area...   \n",
       "3251          Crosby Ave  4 Units [3 Two Bedrooms( Main Building)  & 1 O...   \n",
       "\n",
       "     Postal_Code  \n",
       "0        L5B 1N1  \n",
       "1        M6H 3Z6  \n",
       "2        L2R 5Y5  \n",
       "3        L8K 3P3  \n",
       "4        L8V 3M7  \n",
       "...          ...  \n",
       "3247     P8N 3H6  \n",
       "3248     L6J 1H3  \n",
       "3249     L3V 3C1  \n",
       "3250     L4E 1A5  \n",
       "3251     L4C 3C1  \n",
       "\n",
       "[3252 rows x 11 columns]"
      ]
     },
     "execution_count": 2,
     "metadata": {},
     "output_type": "execute_result"
    }
   ],
   "source": [
    "df = pd.read_csv(\"listing_clean_with_Postal_codes_errors_removed.csv\")\n",
    "df"
   ]
  },
  {
   "cell_type": "code",
   "execution_count": 3,
   "id": "c01839c7",
   "metadata": {},
   "outputs": [
    {
     "data": {
      "text/plain": [
       "Toronto             157\n",
       "Mississauga          90\n",
       "Brampton             69\n",
       "Markham              66\n",
       "Vaughan              63\n",
       "                   ... \n",
       "Fry Cres              1\n",
       "Boardwalk Dr          1\n",
       "Lynn Williams St      1\n",
       "Leader Lane           1\n",
       "Barrie Rd             1\n",
       "Name: City, Length: 321, dtype: int64"
      ]
     },
     "execution_count": 3,
     "metadata": {},
     "output_type": "execute_result"
    }
   ],
   "source": [
    "df.City.value_counts()"
   ]
  },
  {
   "cell_type": "code",
   "execution_count": null,
   "id": "242ce994",
   "metadata": {},
   "outputs": [],
   "source": [
    "import statsmodels.api as sm\n",
    "sm.OLS(df.Price, df[['Beds', 'Baths']]).fit().summary()"
   ]
  },
  {
   "cell_type": "code",
   "execution_count": 4,
   "id": "0faf707d",
   "metadata": {},
   "outputs": [],
   "source": [
    "#separate the other attributes from the predicting attribute\n",
    "X = df[['Beds', 'Baths', 'City']]\n",
    "\n",
    "#separate the predicting attribute into Y for model training \n",
    "y = df['Price']"
   ]
  },
  {
   "cell_type": "code",
   "execution_count": null,
   "id": "d0fcae3c",
   "metadata": {},
   "outputs": [],
   "source": [
    "X.City"
   ]
  },
  {
   "cell_type": "code",
   "execution_count": 5,
   "id": "b942d200",
   "metadata": {},
   "outputs": [
    {
     "data": {
      "text/html": [
       "<div>\n",
       "<style scoped>\n",
       "    .dataframe tbody tr th:only-of-type {\n",
       "        vertical-align: middle;\n",
       "    }\n",
       "\n",
       "    .dataframe tbody tr th {\n",
       "        vertical-align: top;\n",
       "    }\n",
       "\n",
       "    .dataframe thead th {\n",
       "        text-align: right;\n",
       "    }\n",
       "</style>\n",
       "<table border=\"1\" class=\"dataframe\">\n",
       "  <thead>\n",
       "    <tr style=\"text-align: right;\">\n",
       "      <th></th>\n",
       "      <th>Beds</th>\n",
       "      <th>Baths</th>\n",
       "      <th>City</th>\n",
       "    </tr>\n",
       "  </thead>\n",
       "  <tbody>\n",
       "    <tr>\n",
       "      <th>0</th>\n",
       "      <td>2</td>\n",
       "      <td>2</td>\n",
       "      <td>182</td>\n",
       "    </tr>\n",
       "    <tr>\n",
       "      <th>1</th>\n",
       "      <td>2</td>\n",
       "      <td>1</td>\n",
       "      <td>287</td>\n",
       "    </tr>\n",
       "    <tr>\n",
       "      <th>2</th>\n",
       "      <td>4</td>\n",
       "      <td>2</td>\n",
       "      <td>264</td>\n",
       "    </tr>\n",
       "    <tr>\n",
       "      <th>3</th>\n",
       "      <td>4</td>\n",
       "      <td>4</td>\n",
       "      <td>195</td>\n",
       "    </tr>\n",
       "    <tr>\n",
       "      <th>4</th>\n",
       "      <td>4</td>\n",
       "      <td>2</td>\n",
       "      <td>120</td>\n",
       "    </tr>\n",
       "  </tbody>\n",
       "</table>\n",
       "</div>"
      ],
      "text/plain": [
       "   Beds  Baths  City\n",
       "0     2      2   182\n",
       "1     2      1   287\n",
       "2     4      2   264\n",
       "3     4      4   195\n",
       "4     4      2   120"
      ]
     },
     "execution_count": 5,
     "metadata": {},
     "output_type": "execute_result"
    }
   ],
   "source": [
    "X = df[['Beds','Baths','City']].copy()\n",
    "X['City'] = LabelEncoder().fit_transform(X['City'])\n",
    "X = X.dropna()\n",
    "X.head()"
   ]
  },
  {
   "cell_type": "code",
   "execution_count": 6,
   "id": "93311d64",
   "metadata": {},
   "outputs": [],
   "source": [
    "X_scaled = MinMaxScaler().fit_transform(X)"
   ]
  },
  {
   "cell_type": "code",
   "execution_count": 7,
   "id": "ca3c622e",
   "metadata": {
    "scrolled": true
   },
   "outputs": [
    {
     "data": {
      "text/html": [
       "<div>\n",
       "<style scoped>\n",
       "    .dataframe tbody tr th:only-of-type {\n",
       "        vertical-align: middle;\n",
       "    }\n",
       "\n",
       "    .dataframe tbody tr th {\n",
       "        vertical-align: top;\n",
       "    }\n",
       "\n",
       "    .dataframe thead th {\n",
       "        text-align: right;\n",
       "    }\n",
       "</style>\n",
       "<table border=\"1\" class=\"dataframe\">\n",
       "  <thead>\n",
       "    <tr style=\"text-align: right;\">\n",
       "      <th></th>\n",
       "      <th>Beds</th>\n",
       "      <th>Baths</th>\n",
       "      <th>City</th>\n",
       "    </tr>\n",
       "  </thead>\n",
       "  <tbody>\n",
       "    <tr>\n",
       "      <th>count</th>\n",
       "      <td>3252.000000</td>\n",
       "      <td>3252.000000</td>\n",
       "      <td>3252.000000</td>\n",
       "    </tr>\n",
       "    <tr>\n",
       "      <th>mean</th>\n",
       "      <td>3.586101</td>\n",
       "      <td>2.784748</td>\n",
       "      <td>233.611624</td>\n",
       "    </tr>\n",
       "    <tr>\n",
       "      <th>std</th>\n",
       "      <td>1.633893</td>\n",
       "      <td>1.516375</td>\n",
       "      <td>102.453429</td>\n",
       "    </tr>\n",
       "    <tr>\n",
       "      <th>min</th>\n",
       "      <td>1.000000</td>\n",
       "      <td>1.000000</td>\n",
       "      <td>0.000000</td>\n",
       "    </tr>\n",
       "    <tr>\n",
       "      <th>25%</th>\n",
       "      <td>2.000000</td>\n",
       "      <td>2.000000</td>\n",
       "      <td>171.000000</td>\n",
       "    </tr>\n",
       "    <tr>\n",
       "      <th>50%</th>\n",
       "      <td>3.000000</td>\n",
       "      <td>2.000000</td>\n",
       "      <td>287.000000</td>\n",
       "    </tr>\n",
       "    <tr>\n",
       "      <th>75%</th>\n",
       "      <td>4.000000</td>\n",
       "      <td>4.000000</td>\n",
       "      <td>321.000000</td>\n",
       "    </tr>\n",
       "    <tr>\n",
       "      <th>max</th>\n",
       "      <td>18.000000</td>\n",
       "      <td>14.000000</td>\n",
       "      <td>321.000000</td>\n",
       "    </tr>\n",
       "  </tbody>\n",
       "</table>\n",
       "</div>"
      ],
      "text/plain": [
       "              Beds        Baths         City\n",
       "count  3252.000000  3252.000000  3252.000000\n",
       "mean      3.586101     2.784748   233.611624\n",
       "std       1.633893     1.516375   102.453429\n",
       "min       1.000000     1.000000     0.000000\n",
       "25%       2.000000     2.000000   171.000000\n",
       "50%       3.000000     2.000000   287.000000\n",
       "75%       4.000000     4.000000   321.000000\n",
       "max      18.000000    14.000000   321.000000"
      ]
     },
     "execution_count": 7,
     "metadata": {},
     "output_type": "execute_result"
    }
   ],
   "source": [
    "X.describe()"
   ]
  },
  {
   "cell_type": "code",
   "execution_count": 8,
   "id": "81739818",
   "metadata": {},
   "outputs": [
    {
     "data": {
      "text/plain": [
       "999000     70\n",
       "899000     60\n",
       "799000     57\n",
       "699900     56\n",
       "799900     51\n",
       "           ..\n",
       "6995000     1\n",
       "1999905     1\n",
       "4850000     1\n",
       "749990      1\n",
       "2289000     1\n",
       "Name: Price, Length: 1109, dtype: int64"
      ]
     },
     "execution_count": 8,
     "metadata": {},
     "output_type": "execute_result"
    }
   ],
   "source": [
    "# Check the balance of our target values\n",
    "y.value_counts()"
   ]
  },
  {
   "cell_type": "code",
   "execution_count": null,
   "id": "6609df0d",
   "metadata": {},
   "outputs": [],
   "source": []
  },
  {
   "cell_type": "code",
   "execution_count": null,
   "id": "e47da57e",
   "metadata": {},
   "outputs": [],
   "source": []
  },
  {
   "cell_type": "code",
   "execution_count": 12,
   "id": "f4bfb9be",
   "metadata": {},
   "outputs": [],
   "source": [
    "from sklearn.model_selection import train_test_split\n",
    "\n",
    "X_train, X_test, y_train, y_test = train_test_split(X_scaled, y, random_state=42)"
   ]
  },
  {
   "cell_type": "code",
   "execution_count": 13,
   "id": "20be0173",
   "metadata": {},
   "outputs": [],
   "source": [
    "from sklearn.linear_model import LinearRegression\n",
    "model = LinearRegression()"
   ]
  },
  {
   "cell_type": "code",
   "execution_count": 14,
   "id": "170eb8ea",
   "metadata": {},
   "outputs": [
    {
     "name": "stdout",
     "output_type": "stream",
     "text": [
      "Training Score: 0.3132317214154352\n",
      "Testing Score: 0.33049151549004385\n"
     ]
    }
   ],
   "source": [
    "# Fit the model to the training data, and calculate the scores for the training and testing data.\n",
    "from sklearn.linear_model import LinearRegression\n",
    "model = LinearRegression()\n",
    "\n",
    "### BEGIN SOLUTION\n",
    "model.fit(X_train, y_train)\n",
    "training_score = model.score(X_train, y_train)\n",
    "testing_score = model.score(X_test, y_test)\n",
    "\n",
    "### END SOLUTION \n",
    "\n",
    "print(f\"Training Score: {training_score}\")\n",
    "print(f\"Testing Score: {testing_score}\")"
   ]
  },
  {
   "cell_type": "code",
   "execution_count": 15,
   "id": "6b4b0d97",
   "metadata": {},
   "outputs": [],
   "source": [
    "from sklearn.ensemble import RandomForestRegressor\n",
    "model = RandomForestRegressor()"
   ]
  },
  {
   "cell_type": "code",
   "execution_count": 16,
   "id": "956ea665",
   "metadata": {},
   "outputs": [
    {
     "name": "stdout",
     "output_type": "stream",
     "text": [
      "Training Score: 0.741076102787179\n",
      "Testing Score: 0.36051172264197007\n"
     ]
    }
   ],
   "source": [
    "model.fit(X_train, y_train)\n",
    "training_score = model.score(X_train, y_train)\n",
    "testing_score = model.score(X_test, y_test)\n",
    "\n",
    "### END SOLUTION \n",
    "\n",
    "print(f\"Training Score: {training_score}\")\n",
    "print(f\"Testing Score: {testing_score}\")"
   ]
  },
  {
   "cell_type": "code",
   "execution_count": null,
   "id": "1960f3c4",
   "metadata": {},
   "outputs": [],
   "source": [
    "y_prediction =  model.predict(X_test)\n",
    "y_prediction"
   ]
  },
  {
   "cell_type": "code",
   "execution_count": 17,
   "id": "927e8e23",
   "metadata": {},
   "outputs": [
    {
     "name": "stdout",
     "output_type": "stream",
     "text": [
      "Training Score: 0.022005550154585607\n",
      "Testing Score: 0.024488227221033387\n"
     ]
    }
   ],
   "source": [
    "from sklearn.linear_model import ElasticNet\n",
    "model = ElasticNet()\n",
    "model.fit(X_train, y_train)\n",
    "training_score = model.score(X_train, y_train)\n",
    "testing_score = model.score(X_test, y_test)\n",
    "\n",
    "### END SOLUTION \n",
    "\n",
    "print(f\"Training Score: {training_score}\")\n",
    "print(f\"Testing Score: {testing_score}\")"
   ]
  },
  {
   "cell_type": "code",
   "execution_count": null,
   "id": "44a9a681",
   "metadata": {},
   "outputs": [],
   "source": []
  }
 ],
 "metadata": {
  "kernelspec": {
   "display_name": "mlenv",
   "language": "python",
   "name": "mlenv"
  },
  "language_info": {
   "codemirror_mode": {
    "name": "ipython",
    "version": 3
   },
   "file_extension": ".py",
   "mimetype": "text/x-python",
   "name": "python",
   "nbconvert_exporter": "python",
   "pygments_lexer": "ipython3",
   "version": "3.8.8"
  }
 },
 "nbformat": 4,
 "nbformat_minor": 5
}
