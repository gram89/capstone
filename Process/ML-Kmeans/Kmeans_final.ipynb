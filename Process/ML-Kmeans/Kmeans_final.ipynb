{
 "cells": [
  {
   "cell_type": "code",
   "execution_count": 1,
   "metadata": {},
   "outputs": [],
   "source": [
    "import pandas as pd\n",
    "from sklearn.preprocessing import MinMaxScaler, LabelEncoder\n",
    "from sklearn.cluster import KMeans\n",
    "from matplotlib import pyplot as plt"
   ]
  },
  {
   "cell_type": "code",
   "execution_count": 2,
   "metadata": {},
   "outputs": [
    {
     "data": {
      "text/html": [
       "<div>\n",
       "<style scoped>\n",
       "    .dataframe tbody tr th:only-of-type {\n",
       "        vertical-align: middle;\n",
       "    }\n",
       "\n",
       "    .dataframe tbody tr th {\n",
       "        vertical-align: top;\n",
       "    }\n",
       "\n",
       "    .dataframe thead th {\n",
       "        text-align: right;\n",
       "    }\n",
       "</style>\n",
       "<table border=\"1\" class=\"dataframe\">\n",
       "  <thead>\n",
       "    <tr style=\"text-align: right;\">\n",
       "      <th></th>\n",
       "      <th>Unnamed: 0</th>\n",
       "      <th>Unnamed: 0.1</th>\n",
       "      <th>Address</th>\n",
       "      <th>Price</th>\n",
       "      <th>Beds</th>\n",
       "      <th>Baths</th>\n",
       "      <th>City</th>\n",
       "      <th>Area</th>\n",
       "      <th>Street</th>\n",
       "      <th>Description</th>\n",
       "      <th>Postal_Code</th>\n",
       "    </tr>\n",
       "  </thead>\n",
       "  <tbody>\n",
       "    <tr>\n",
       "      <th>0</th>\n",
       "      <td>0</td>\n",
       "      <td>0</td>\n",
       "      <td>2323 Confederation Pkwy 1102</td>\n",
       "      <td>430000</td>\n",
       "      <td>2</td>\n",
       "      <td>2</td>\n",
       "      <td>Mississauga</td>\n",
       "      <td>Cooksville</td>\n",
       "      <td>Confederation Pkwy</td>\n",
       "      <td>Beautiful Bright And Spacious Condo Unit 2 Bed...</td>\n",
       "      <td>L5B 1N1</td>\n",
       "    </tr>\n",
       "    <tr>\n",
       "      <th>1</th>\n",
       "      <td>1</td>\n",
       "      <td>1</td>\n",
       "      <td>816 Lansdowne Ave 411</td>\n",
       "      <td>598000</td>\n",
       "      <td>2</td>\n",
       "      <td>1</td>\n",
       "      <td>Toronto</td>\n",
       "      <td>Dovercourt-Wallace Emerson-Junction</td>\n",
       "      <td>Lansdowne Ave</td>\n",
       "      <td>Large Renovated One Bedroom+Den 646 Sf! Great ...</td>\n",
       "      <td>M6H 3Z6</td>\n",
       "    </tr>\n",
       "    <tr>\n",
       "      <th>2</th>\n",
       "      <td>2</td>\n",
       "      <td>6</td>\n",
       "      <td>109 Lake St</td>\n",
       "      <td>750000</td>\n",
       "      <td>4</td>\n",
       "      <td>2</td>\n",
       "      <td>St. Catharines</td>\n",
       "      <td>NaN</td>\n",
       "      <td>NaN</td>\n",
       "      <td>Investors!! Maintenance-Free Solid 4 Plex-Full...</td>\n",
       "      <td>L2R 5Y5</td>\n",
       "    </tr>\n",
       "    <tr>\n",
       "      <th>3</th>\n",
       "      <td>3</td>\n",
       "      <td>7</td>\n",
       "      <td>321 Queenston Rd</td>\n",
       "      <td>1899000</td>\n",
       "      <td>4</td>\n",
       "      <td>4</td>\n",
       "      <td>Niagara-on-the-Lake</td>\n",
       "      <td>NaN</td>\n",
       "      <td>NaN</td>\n",
       "      <td>Welcome To 321 Queenston Rd, Overlooking Viney...</td>\n",
       "      <td>L8K 3P3</td>\n",
       "    </tr>\n",
       "    <tr>\n",
       "      <th>4</th>\n",
       "      <td>4</td>\n",
       "      <td>8</td>\n",
       "      <td>650 Upper Sherman Ave</td>\n",
       "      <td>899000</td>\n",
       "      <td>4</td>\n",
       "      <td>2</td>\n",
       "      <td>Hamilton</td>\n",
       "      <td>Burkholme</td>\n",
       "      <td>Upper Sherman Ave</td>\n",
       "      <td>Absolutely Fantastic Opportunity !!! Detach Ho...</td>\n",
       "      <td>L8V 3M7</td>\n",
       "    </tr>\n",
       "  </tbody>\n",
       "</table>\n",
       "</div>"
      ],
      "text/plain": [
       "   Unnamed: 0  Unnamed: 0.1                       Address    Price  Beds  \\\n",
       "0           0             0  2323 Confederation Pkwy 1102   430000     2   \n",
       "1           1             1         816 Lansdowne Ave 411   598000     2   \n",
       "2           2             6                   109 Lake St   750000     4   \n",
       "3           3             7              321 Queenston Rd  1899000     4   \n",
       "4           4             8         650 Upper Sherman Ave   899000     4   \n",
       "\n",
       "   Baths                 City                                 Area  \\\n",
       "0      2          Mississauga                           Cooksville   \n",
       "1      1              Toronto  Dovercourt-Wallace Emerson-Junction   \n",
       "2      2       St. Catharines                                  NaN   \n",
       "3      4  Niagara-on-the-Lake                                  NaN   \n",
       "4      2             Hamilton                            Burkholme   \n",
       "\n",
       "               Street                                        Description  \\\n",
       "0  Confederation Pkwy  Beautiful Bright And Spacious Condo Unit 2 Bed...   \n",
       "1       Lansdowne Ave  Large Renovated One Bedroom+Den 646 Sf! Great ...   \n",
       "2                 NaN  Investors!! Maintenance-Free Solid 4 Plex-Full...   \n",
       "3                 NaN  Welcome To 321 Queenston Rd, Overlooking Viney...   \n",
       "4   Upper Sherman Ave  Absolutely Fantastic Opportunity !!! Detach Ho...   \n",
       "\n",
       "  Postal_Code  \n",
       "0     L5B 1N1  \n",
       "1     M6H 3Z6  \n",
       "2     L2R 5Y5  \n",
       "3     L8K 3P3  \n",
       "4     L8V 3M7  "
      ]
     },
     "execution_count": 2,
     "metadata": {},
     "output_type": "execute_result"
    }
   ],
   "source": [
    "df = pd.read_csv('../Resources/Other/listing_clean_with_Postal_codes_errors_removed.csv')\n",
    "df.head()"
   ]
  },
  {
   "cell_type": "code",
   "execution_count": 3,
   "metadata": {},
   "outputs": [
    {
     "data": {
      "text/html": [
       "<div>\n",
       "<style scoped>\n",
       "    .dataframe tbody tr th:only-of-type {\n",
       "        vertical-align: middle;\n",
       "    }\n",
       "\n",
       "    .dataframe tbody tr th {\n",
       "        vertical-align: top;\n",
       "    }\n",
       "\n",
       "    .dataframe thead th {\n",
       "        text-align: right;\n",
       "    }\n",
       "</style>\n",
       "<table border=\"1\" class=\"dataframe\">\n",
       "  <thead>\n",
       "    <tr style=\"text-align: right;\">\n",
       "      <th></th>\n",
       "      <th>Price</th>\n",
       "      <th>Beds</th>\n",
       "      <th>Baths</th>\n",
       "      <th>Address</th>\n",
       "      <th>Postal_Code</th>\n",
       "    </tr>\n",
       "  </thead>\n",
       "  <tbody>\n",
       "    <tr>\n",
       "      <th>3247</th>\n",
       "      <td>47900</td>\n",
       "      <td>2</td>\n",
       "      <td>1</td>\n",
       "      <td>638 Mcgogy Rd 26</td>\n",
       "      <td>P8N 3H6</td>\n",
       "    </tr>\n",
       "    <tr>\n",
       "      <th>3248</th>\n",
       "      <td>1199000</td>\n",
       "      <td>6</td>\n",
       "      <td>3</td>\n",
       "      <td>176 Church St</td>\n",
       "      <td>L6J 1H3</td>\n",
       "    </tr>\n",
       "    <tr>\n",
       "      <th>3249</th>\n",
       "      <td>1349000</td>\n",
       "      <td>4</td>\n",
       "      <td>4</td>\n",
       "      <td>283 Barrie Rd</td>\n",
       "      <td>L3V 3C1</td>\n",
       "    </tr>\n",
       "    <tr>\n",
       "      <th>3250</th>\n",
       "      <td>1429995</td>\n",
       "      <td>4</td>\n",
       "      <td>2</td>\n",
       "      <td>4 Hughes St</td>\n",
       "      <td>L4E 1A5</td>\n",
       "    </tr>\n",
       "    <tr>\n",
       "      <th>3251</th>\n",
       "      <td>2289000</td>\n",
       "      <td>7</td>\n",
       "      <td>4</td>\n",
       "      <td>90 Crosby Ave</td>\n",
       "      <td>L4C 3C1</td>\n",
       "    </tr>\n",
       "  </tbody>\n",
       "</table>\n",
       "</div>"
      ],
      "text/plain": [
       "        Price  Beds  Baths           Address Postal_Code\n",
       "3247    47900     2      1  638 Mcgogy Rd 26     P8N 3H6\n",
       "3248  1199000     6      3     176 Church St     L6J 1H3\n",
       "3249  1349000     4      4     283 Barrie Rd     L3V 3C1\n",
       "3250  1429995     4      2       4 Hughes St     L4E 1A5\n",
       "3251  2289000     7      4     90 Crosby Ave     L4C 3C1"
      ]
     },
     "execution_count": 3,
     "metadata": {},
     "output_type": "execute_result"
    }
   ],
   "source": [
    "df_reduced = df[['Price','Beds','Baths','Address','Postal_Code']]\n",
    "df_reduced.tail()"
   ]
  },
  {
   "cell_type": "code",
   "execution_count": 4,
   "metadata": {},
   "outputs": [
    {
     "name": "stderr",
     "output_type": "stream",
     "text": [
      "/var/folders/9y/nv_s1mxx6p7bj2sk2_tl7sl80000gn/T/ipykernel_43490/1835919048.py:15: SettingWithCopyWarning: \n",
      "A value is trying to be set on a copy of a slice from a DataFrame.\n",
      "Try using .loc[row_indexer,col_indexer] = value instead\n",
      "\n",
      "See the caveats in the documentation: https://pandas.pydata.org/pandas-docs/stable/user_guide/indexing.html#returning-a-view-versus-a-copy\n",
      "  df_reduced['City'] = cities\n",
      "/var/folders/9y/nv_s1mxx6p7bj2sk2_tl7sl80000gn/T/ipykernel_43490/1835919048.py:16: SettingWithCopyWarning: \n",
      "A value is trying to be set on a copy of a slice from a DataFrame.\n",
      "Try using .loc[row_indexer,col_indexer] = value instead\n",
      "\n",
      "See the caveats in the documentation: https://pandas.pydata.org/pandas-docs/stable/user_guide/indexing.html#returning-a-view-versus-a-copy\n",
      "  df_reduced['Latitude'] = lats\n",
      "/var/folders/9y/nv_s1mxx6p7bj2sk2_tl7sl80000gn/T/ipykernel_43490/1835919048.py:17: SettingWithCopyWarning: \n",
      "A value is trying to be set on a copy of a slice from a DataFrame.\n",
      "Try using .loc[row_indexer,col_indexer] = value instead\n",
      "\n",
      "See the caveats in the documentation: https://pandas.pydata.org/pandas-docs/stable/user_guide/indexing.html#returning-a-view-versus-a-copy\n",
      "  df_reduced['Longitude'] = longs\n"
     ]
    },
    {
     "data": {
      "text/html": [
       "<div>\n",
       "<style scoped>\n",
       "    .dataframe tbody tr th:only-of-type {\n",
       "        vertical-align: middle;\n",
       "    }\n",
       "\n",
       "    .dataframe tbody tr th {\n",
       "        vertical-align: top;\n",
       "    }\n",
       "\n",
       "    .dataframe thead th {\n",
       "        text-align: right;\n",
       "    }\n",
       "</style>\n",
       "<table border=\"1\" class=\"dataframe\">\n",
       "  <thead>\n",
       "    <tr style=\"text-align: right;\">\n",
       "      <th></th>\n",
       "      <th>Price</th>\n",
       "      <th>Beds</th>\n",
       "      <th>Baths</th>\n",
       "      <th>Address</th>\n",
       "      <th>Postal_Code</th>\n",
       "      <th>City</th>\n",
       "      <th>Latitude</th>\n",
       "      <th>Longitude</th>\n",
       "    </tr>\n",
       "  </thead>\n",
       "  <tbody>\n",
       "    <tr>\n",
       "      <th>0</th>\n",
       "      <td>430000</td>\n",
       "      <td>2</td>\n",
       "      <td>2</td>\n",
       "      <td>2323 Confederation Pkwy 1102</td>\n",
       "      <td>L5B 1N1</td>\n",
       "      <td>Mississauga</td>\n",
       "      <td>43.5771</td>\n",
       "      <td>-79.6306</td>\n",
       "    </tr>\n",
       "    <tr>\n",
       "      <th>1</th>\n",
       "      <td>598000</td>\n",
       "      <td>2</td>\n",
       "      <td>1</td>\n",
       "      <td>816 Lansdowne Ave 411</td>\n",
       "      <td>M6H 3Z6</td>\n",
       "      <td>Toronto</td>\n",
       "      <td>43.6655</td>\n",
       "      <td>-79.4378</td>\n",
       "    </tr>\n",
       "    <tr>\n",
       "      <th>2</th>\n",
       "      <td>750000</td>\n",
       "      <td>4</td>\n",
       "      <td>2</td>\n",
       "      <td>109 Lake St</td>\n",
       "      <td>L2R 5Y5</td>\n",
       "      <td>St. Catharines</td>\n",
       "      <td>43.1419</td>\n",
       "      <td>-79.2966</td>\n",
       "    </tr>\n",
       "    <tr>\n",
       "      <th>3</th>\n",
       "      <td>1899000</td>\n",
       "      <td>4</td>\n",
       "      <td>4</td>\n",
       "      <td>321 Queenston Rd</td>\n",
       "      <td>L8K 3P3</td>\n",
       "      <td>Hamilton</td>\n",
       "      <td>43.2211</td>\n",
       "      <td>-79.7994</td>\n",
       "    </tr>\n",
       "    <tr>\n",
       "      <th>4</th>\n",
       "      <td>899000</td>\n",
       "      <td>4</td>\n",
       "      <td>2</td>\n",
       "      <td>650 Upper Sherman Ave</td>\n",
       "      <td>L8V 3M7</td>\n",
       "      <td>Hamilton</td>\n",
       "      <td>43.2266</td>\n",
       "      <td>-79.8499</td>\n",
       "    </tr>\n",
       "  </tbody>\n",
       "</table>\n",
       "</div>"
      ],
      "text/plain": [
       "     Price  Beds  Baths                       Address Postal_Code  \\\n",
       "0   430000     2      2  2323 Confederation Pkwy 1102     L5B 1N1   \n",
       "1   598000     2      1         816 Lansdowne Ave 411     M6H 3Z6   \n",
       "2   750000     4      2                   109 Lake St     L2R 5Y5   \n",
       "3  1899000     4      4              321 Queenston Rd     L8K 3P3   \n",
       "4   899000     4      2         650 Upper Sherman Ave     L8V 3M7   \n",
       "\n",
       "              City  Latitude  Longitude  \n",
       "0      Mississauga   43.5771   -79.6306  \n",
       "1          Toronto   43.6655   -79.4378  \n",
       "2  St. Catharines    43.1419   -79.2966  \n",
       "3         Hamilton   43.2211   -79.7994  \n",
       "4         Hamilton   43.2266   -79.8499  "
      ]
     },
     "execution_count": 4,
     "metadata": {},
     "output_type": "execute_result"
    }
   ],
   "source": [
    "import pgeocode\n",
    "nomi = pgeocode.Nominatim('CA')\n",
    "\n",
    "\n",
    "cities = []\n",
    "lats = []\n",
    "longs = []\n",
    "\n",
    "for pc in df_reduced['Postal_Code']:\n",
    "    cities.append(nomi.query_postal_code(pc).county_name)\n",
    "    lats.append(nomi.query_postal_code(pc).latitude)\n",
    "    longs.append(nomi.query_postal_code(pc).longitude)\n",
    "\n",
    "    \n",
    "df_reduced['City'] = cities\n",
    "df_reduced['Latitude'] = lats\n",
    "df_reduced['Longitude'] = longs\n",
    "\n",
    "df_reduced.head()"
   ]
  },
  {
   "cell_type": "code",
   "execution_count": 5,
   "metadata": {},
   "outputs": [
    {
     "data": {
      "text/plain": [
       "Price          3252\n",
       "Beds           3252\n",
       "Baths          3252\n",
       "Address        3252\n",
       "Postal_Code    3252\n",
       "City           2404\n",
       "Latitude       3107\n",
       "Longitude      3107\n",
       "dtype: int64"
      ]
     },
     "execution_count": 5,
     "metadata": {},
     "output_type": "execute_result"
    }
   ],
   "source": [
    "df_reduced.count()"
   ]
  },
  {
   "cell_type": "code",
   "execution_count": 6,
   "metadata": {},
   "outputs": [
    {
     "data": {
      "text/plain": [
       "Price          2404\n",
       "Beds           2404\n",
       "Baths          2404\n",
       "Address        2404\n",
       "Postal_Code    2404\n",
       "City           2404\n",
       "Latitude       2404\n",
       "Longitude      2404\n",
       "dtype: int64"
      ]
     },
     "execution_count": 6,
     "metadata": {},
     "output_type": "execute_result"
    }
   ],
   "source": [
    "dropped_df = df_reduced.dropna()\n",
    "\n",
    "dropped_df.count()"
   ]
  },
  {
   "cell_type": "code",
   "execution_count": 7,
   "metadata": {},
   "outputs": [
    {
     "data": {
      "text/html": [
       "<div>\n",
       "<style scoped>\n",
       "    .dataframe tbody tr th:only-of-type {\n",
       "        vertical-align: middle;\n",
       "    }\n",
       "\n",
       "    .dataframe tbody tr th {\n",
       "        vertical-align: top;\n",
       "    }\n",
       "\n",
       "    .dataframe thead th {\n",
       "        text-align: right;\n",
       "    }\n",
       "</style>\n",
       "<table border=\"1\" class=\"dataframe\">\n",
       "  <thead>\n",
       "    <tr style=\"text-align: right;\">\n",
       "      <th></th>\n",
       "      <th>index</th>\n",
       "      <th>Price</th>\n",
       "      <th>Beds</th>\n",
       "      <th>Baths</th>\n",
       "      <th>Address</th>\n",
       "      <th>Postal_Code</th>\n",
       "      <th>City</th>\n",
       "      <th>Latitude</th>\n",
       "      <th>Longitude</th>\n",
       "    </tr>\n",
       "  </thead>\n",
       "  <tbody>\n",
       "    <tr>\n",
       "      <th>2399</th>\n",
       "      <td>3244</td>\n",
       "      <td>469999</td>\n",
       "      <td>2</td>\n",
       "      <td>2</td>\n",
       "      <td>3088 Kennedy Rd 609</td>\n",
       "      <td>M1V 1S9</td>\n",
       "      <td>Scarborough</td>\n",
       "      <td>43.8177</td>\n",
       "      <td>-79.2819</td>\n",
       "    </tr>\n",
       "    <tr>\n",
       "      <th>2400</th>\n",
       "      <td>3245</td>\n",
       "      <td>819999</td>\n",
       "      <td>2</td>\n",
       "      <td>1</td>\n",
       "      <td>10 York St 2704</td>\n",
       "      <td>M5J 0E1</td>\n",
       "      <td>Toronto</td>\n",
       "      <td>43.6230</td>\n",
       "      <td>-79.3936</td>\n",
       "    </tr>\n",
       "    <tr>\n",
       "      <th>2401</th>\n",
       "      <td>3248</td>\n",
       "      <td>1199000</td>\n",
       "      <td>6</td>\n",
       "      <td>3</td>\n",
       "      <td>176 Church St</td>\n",
       "      <td>L6J 1H3</td>\n",
       "      <td>Oakville</td>\n",
       "      <td>43.4757</td>\n",
       "      <td>-79.6591</td>\n",
       "    </tr>\n",
       "    <tr>\n",
       "      <th>2402</th>\n",
       "      <td>3250</td>\n",
       "      <td>1429995</td>\n",
       "      <td>4</td>\n",
       "      <td>2</td>\n",
       "      <td>4 Hughes St</td>\n",
       "      <td>L4E 1A5</td>\n",
       "      <td>Richmond Hill</td>\n",
       "      <td>43.9394</td>\n",
       "      <td>-79.4349</td>\n",
       "    </tr>\n",
       "    <tr>\n",
       "      <th>2403</th>\n",
       "      <td>3251</td>\n",
       "      <td>2289000</td>\n",
       "      <td>7</td>\n",
       "      <td>4</td>\n",
       "      <td>90 Crosby Ave</td>\n",
       "      <td>L4C 3C1</td>\n",
       "      <td>Richmond Hill</td>\n",
       "      <td>43.8669</td>\n",
       "      <td>-79.4414</td>\n",
       "    </tr>\n",
       "  </tbody>\n",
       "</table>\n",
       "</div>"
      ],
      "text/plain": [
       "      index    Price  Beds  Baths              Address Postal_Code  \\\n",
       "2399   3244   469999     2      2  3088 Kennedy Rd 609     M1V 1S9   \n",
       "2400   3245   819999     2      1      10 York St 2704     M5J 0E1   \n",
       "2401   3248  1199000     6      3        176 Church St     L6J 1H3   \n",
       "2402   3250  1429995     4      2          4 Hughes St     L4E 1A5   \n",
       "2403   3251  2289000     7      4        90 Crosby Ave     L4C 3C1   \n",
       "\n",
       "                City  Latitude  Longitude  \n",
       "2399     Scarborough   43.8177   -79.2819  \n",
       "2400         Toronto   43.6230   -79.3936  \n",
       "2401        Oakville   43.4757   -79.6591  \n",
       "2402  Richmond Hill    43.9394   -79.4349  \n",
       "2403  Richmond Hill    43.8669   -79.4414  "
      ]
     },
     "execution_count": 7,
     "metadata": {},
     "output_type": "execute_result"
    }
   ],
   "source": [
    "dropped_df = dropped_df.reset_index()\n",
    "\n",
    "dropped_df.tail()"
   ]
  },
  {
   "cell_type": "code",
   "execution_count": 8,
   "metadata": {},
   "outputs": [],
   "source": [
    "features = dropped_df[['Beds','Baths','City']]"
   ]
  },
  {
   "cell_type": "code",
   "execution_count": 9,
   "metadata": {},
   "outputs": [
    {
     "data": {
      "text/html": [
       "<div>\n",
       "<style scoped>\n",
       "    .dataframe tbody tr th:only-of-type {\n",
       "        vertical-align: middle;\n",
       "    }\n",
       "\n",
       "    .dataframe tbody tr th {\n",
       "        vertical-align: top;\n",
       "    }\n",
       "\n",
       "    .dataframe thead th {\n",
       "        text-align: right;\n",
       "    }\n",
       "</style>\n",
       "<table border=\"1\" class=\"dataframe\">\n",
       "  <thead>\n",
       "    <tr style=\"text-align: right;\">\n",
       "      <th></th>\n",
       "      <th>Beds</th>\n",
       "      <th>Baths</th>\n",
       "      <th>City</th>\n",
       "    </tr>\n",
       "  </thead>\n",
       "  <tbody>\n",
       "    <tr>\n",
       "      <th>2399</th>\n",
       "      <td>2</td>\n",
       "      <td>2</td>\n",
       "      <td>44</td>\n",
       "    </tr>\n",
       "    <tr>\n",
       "      <th>2400</th>\n",
       "      <td>2</td>\n",
       "      <td>1</td>\n",
       "      <td>50</td>\n",
       "    </tr>\n",
       "    <tr>\n",
       "      <th>2401</th>\n",
       "      <td>6</td>\n",
       "      <td>3</td>\n",
       "      <td>33</td>\n",
       "    </tr>\n",
       "    <tr>\n",
       "      <th>2402</th>\n",
       "      <td>4</td>\n",
       "      <td>2</td>\n",
       "      <td>41</td>\n",
       "    </tr>\n",
       "    <tr>\n",
       "      <th>2403</th>\n",
       "      <td>7</td>\n",
       "      <td>4</td>\n",
       "      <td>41</td>\n",
       "    </tr>\n",
       "  </tbody>\n",
       "</table>\n",
       "</div>"
      ],
      "text/plain": [
       "      Beds  Baths  City\n",
       "2399     2      2    44\n",
       "2400     2      1    50\n",
       "2401     6      3    33\n",
       "2402     4      2    41\n",
       "2403     7      4    41"
      ]
     },
     "execution_count": 9,
     "metadata": {},
     "output_type": "execute_result"
    }
   ],
   "source": [
    "X = features.copy()\n",
    "X['City'] = LabelEncoder().fit_transform(X['City'])\n",
    "X.tail()"
   ]
  },
  {
   "cell_type": "code",
   "execution_count": 10,
   "metadata": {},
   "outputs": [
    {
     "data": {
      "text/plain": [
       "Beds     2404\n",
       "Baths    2404\n",
       "City     2404\n",
       "dtype: int64"
      ]
     },
     "execution_count": 10,
     "metadata": {},
     "output_type": "execute_result"
    }
   ],
   "source": [
    "X.count()"
   ]
  },
  {
   "cell_type": "code",
   "execution_count": 11,
   "metadata": {},
   "outputs": [],
   "source": [
    "y = dropped_df['Price']"
   ]
  },
  {
   "cell_type": "code",
   "execution_count": 12,
   "metadata": {},
   "outputs": [
    {
     "data": {
      "text/plain": [
       "array([[0.05882353, 0.07692308, 0.46551724],\n",
       "       [0.05882353, 0.        , 0.86206897],\n",
       "       [0.17647059, 0.07692308, 0.77586207],\n",
       "       ...,\n",
       "       [0.29411765, 0.15384615, 0.56896552],\n",
       "       [0.17647059, 0.07692308, 0.70689655],\n",
       "       [0.35294118, 0.23076923, 0.70689655]])"
      ]
     },
     "execution_count": 12,
     "metadata": {},
     "output_type": "execute_result"
    }
   ],
   "source": [
    "# Scale the dataset using MinMaxScaler()\n",
    "X_scaled = MinMaxScaler().fit_transform(X)\n",
    "X_scaled"
   ]
  },
  {
   "cell_type": "code",
   "execution_count": 13,
   "metadata": {},
   "outputs": [
    {
     "data": {
      "image/png": "[encoded data removed]",
      "text/plain": [
       "<Figure size 432x288 with 1 Axes>"
      ]
     },
     "metadata": {
      "needs_background": "light"
     },
     "output_type": "display_data"
    }
   ],
   "source": [
    "sse = {}\n",
    "K = range(1, 10)\n",
    "for k in K:\n",
    "    kmeanmodel = KMeans(n_clusters=k).fit(X_scaled)\n",
    "    sse[k]= kmeanmodel.inertia_\n",
    "    \n",
    "# Plot\n",
    "plt.plot(list(sse.keys()), list(sse.values()))\n",
    "plt.xlabel('k')\n",
    "plt.ylabel('SSE')\n",
    "plt.title('Elbow Method')\n",
    "plt.show()"
   ]
  },
  {
   "cell_type": "code",
   "execution_count": 14,
   "metadata": {},
   "outputs": [],
   "source": [
    "# Create a KMeans model with 3 clusters\n",
    "model = KMeans(n_clusters=4, random_state=42).fit(X_scaled)"
   ]
  },
  {
   "cell_type": "code",
   "execution_count": 15,
   "metadata": {},
   "outputs": [],
   "source": [
    "# Calculate predicted values.\n",
    "y_pred = model.predict(X_scaled)"
   ]
  },
  {
   "cell_type": "code",
   "execution_count": 16,
   "metadata": {},
   "outputs": [
    {
     "data": {
      "text/html": [
       "<div>\n",
       "<style scoped>\n",
       "    .dataframe tbody tr th:only-of-type {\n",
       "        vertical-align: middle;\n",
       "    }\n",
       "\n",
       "    .dataframe tbody tr th {\n",
       "        vertical-align: top;\n",
       "    }\n",
       "\n",
       "    .dataframe thead th {\n",
       "        text-align: right;\n",
       "    }\n",
       "</style>\n",
       "<table border=\"1\" class=\"dataframe\">\n",
       "  <thead>\n",
       "    <tr style=\"text-align: right;\">\n",
       "      <th></th>\n",
       "      <th>index</th>\n",
       "      <th>Price</th>\n",
       "      <th>Beds</th>\n",
       "      <th>Baths</th>\n",
       "      <th>Address</th>\n",
       "      <th>Postal_Code</th>\n",
       "      <th>City</th>\n",
       "      <th>Latitude</th>\n",
       "      <th>Longitude</th>\n",
       "      <th>Cluster</th>\n",
       "    </tr>\n",
       "  </thead>\n",
       "  <tbody>\n",
       "    <tr>\n",
       "      <th>2399</th>\n",
       "      <td>3244</td>\n",
       "      <td>469999</td>\n",
       "      <td>2</td>\n",
       "      <td>2</td>\n",
       "      <td>3088 Kennedy Rd 609</td>\n",
       "      <td>M1V 1S9</td>\n",
       "      <td>Scarborough</td>\n",
       "      <td>43.8177</td>\n",
       "      <td>-79.2819</td>\n",
       "      <td>2</td>\n",
       "    </tr>\n",
       "    <tr>\n",
       "      <th>2400</th>\n",
       "      <td>3245</td>\n",
       "      <td>819999</td>\n",
       "      <td>2</td>\n",
       "      <td>1</td>\n",
       "      <td>10 York St 2704</td>\n",
       "      <td>M5J 0E1</td>\n",
       "      <td>Toronto</td>\n",
       "      <td>43.6230</td>\n",
       "      <td>-79.3936</td>\n",
       "      <td>2</td>\n",
       "    </tr>\n",
       "    <tr>\n",
       "      <th>2401</th>\n",
       "      <td>3248</td>\n",
       "      <td>1199000</td>\n",
       "      <td>6</td>\n",
       "      <td>3</td>\n",
       "      <td>176 Church St</td>\n",
       "      <td>L6J 1H3</td>\n",
       "      <td>Oakville</td>\n",
       "      <td>43.4757</td>\n",
       "      <td>-79.6591</td>\n",
       "      <td>1</td>\n",
       "    </tr>\n",
       "    <tr>\n",
       "      <th>2402</th>\n",
       "      <td>3250</td>\n",
       "      <td>1429995</td>\n",
       "      <td>4</td>\n",
       "      <td>2</td>\n",
       "      <td>4 Hughes St</td>\n",
       "      <td>L4E 1A5</td>\n",
       "      <td>Richmond Hill</td>\n",
       "      <td>43.9394</td>\n",
       "      <td>-79.4349</td>\n",
       "      <td>2</td>\n",
       "    </tr>\n",
       "    <tr>\n",
       "      <th>2403</th>\n",
       "      <td>3251</td>\n",
       "      <td>2289000</td>\n",
       "      <td>7</td>\n",
       "      <td>4</td>\n",
       "      <td>90 Crosby Ave</td>\n",
       "      <td>L4C 3C1</td>\n",
       "      <td>Richmond Hill</td>\n",
       "      <td>43.8669</td>\n",
       "      <td>-79.4414</td>\n",
       "      <td>0</td>\n",
       "    </tr>\n",
       "  </tbody>\n",
       "</table>\n",
       "</div>"
      ],
      "text/plain": [
       "      index    Price  Beds  Baths              Address Postal_Code  \\\n",
       "2399   3244   469999     2      2  3088 Kennedy Rd 609     M1V 1S9   \n",
       "2400   3245   819999     2      1      10 York St 2704     M5J 0E1   \n",
       "2401   3248  1199000     6      3        176 Church St     L6J 1H3   \n",
       "2402   3250  1429995     4      2          4 Hughes St     L4E 1A5   \n",
       "2403   3251  2289000     7      4        90 Crosby Ave     L4C 3C1   \n",
       "\n",
       "                City  Latitude  Longitude  Cluster  \n",
       "2399     Scarborough   43.8177   -79.2819        2  \n",
       "2400         Toronto   43.6230   -79.3936        2  \n",
       "2401        Oakville   43.4757   -79.6591        1  \n",
       "2402  Richmond Hill    43.9394   -79.4349        2  \n",
       "2403  Richmond Hill    43.8669   -79.4414        0  "
      ]
     },
     "execution_count": 16,
     "metadata": {},
     "output_type": "execute_result"
    }
   ],
   "source": [
    "# Add predicted values onto the original dataframe\n",
    "df_y = pd.DataFrame(y_pred, columns=['Cluster'])\n",
    "combined = dropped_df.join(df_y, how='inner')\n",
    "combined.tail()"
   ]
  },
  {
   "cell_type": "code",
   "execution_count": 17,
   "metadata": {},
   "outputs": [
    {
     "data": {
      "text/plain": [
       "index          2404\n",
       "Price          2404\n",
       "Beds           2404\n",
       "Baths          2404\n",
       "Address        2404\n",
       "Postal_Code    2404\n",
       "City           2404\n",
       "Latitude       2404\n",
       "Longitude      2404\n",
       "Cluster        2404\n",
       "dtype: int64"
      ]
     },
     "execution_count": 17,
     "metadata": {},
     "output_type": "execute_result"
    }
   ],
   "source": [
    "combined.count()"
   ]
  },
  {
   "cell_type": "code",
   "execution_count": 18,
   "metadata": {},
   "outputs": [
    {
     "data": {
      "text/plain": [
       "<AxesSubplot:title={'center':'Price'}, xlabel='[Cluster]'>"
      ]
     },
     "execution_count": 18,
     "metadata": {},
     "output_type": "execute_result"
    },
    {
     "data": {
      "image/png": "[encoded data removed]",
      "text/plain": [
       "<Figure size 432x288 with 1 Axes>"
      ]
     },
     "metadata": {
      "needs_background": "light"
     },
     "output_type": "display_data"
    }
   ],
   "source": [
    "# Plot boxplots of the Price distributions by Cluster\n",
    "combined.boxplot(['Price'], by=['Cluster'])"
   ]
  },
  {
   "cell_type": "code",
   "execution_count": 19,
   "metadata": {},
   "outputs": [
    {
     "data": {
      "text/plain": [
       "<AxesSubplot:xlabel='City'>"
      ]
     },
     "execution_count": 19,
     "metadata": {},
     "output_type": "execute_result"
    },
    {
     "data": {
      "image/png": "[encoded data removed]",
      "text/plain": [
       "<Figure size 1440x720 with 1 Axes>"
      ]
     },
     "metadata": {
      "needs_background": "light"
     },
     "output_type": "display_data"
    }
   ],
   "source": [
    "# Plot median price times by city for each cluster\n",
    "\n",
    "combined[combined['Cluster'] == 0].groupby('City').median()['Price'].plot(rot=90, figsize=(20,10))\n",
    "combined[combined['Cluster'] == 1].groupby('City').median()['Price'].plot(rot=90, figsize=(20,10))\n",
    "combined[combined['Cluster'] == 2].groupby('City').median()['Price'].plot(rot=90, figsize=(20,10))\n",
    "combined[combined['Cluster'] == 3].groupby('City').median()['Price'].plot(rot=90, figsize=(20,10))"
   ]
  },
  {
   "cell_type": "code",
   "execution_count": 20,
   "metadata": {},
   "outputs": [],
   "source": [
    "combined.to_csv(\"../Resources/clustered_listings.csv\")"
   ]
  },
  {
   "cell_type": "code",
   "execution_count": null,
   "metadata": {},
   "outputs": [],
   "source": []
  }
 ],
 "metadata": {
  "kernelspec": {
   "display_name": "mlenv",
   "language": "python",
   "name": "mlenv"
  },
  "language_info": {
   "codemirror_mode": {
    "name": "ipython",
    "version": 3
   },
   "file_extension": ".py",
   "mimetype": "text/x-python",
   "name": "python",
   "nbconvert_exporter": "python",
   "pygments_lexer": "ipython3",
   "version": "3.9.7"
  }
 },
 "nbformat": 4,
 "nbformat_minor": 2
}
