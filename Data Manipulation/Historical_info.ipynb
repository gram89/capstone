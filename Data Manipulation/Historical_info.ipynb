{
 "cells": [
  {
   "cell_type": "code",
   "execution_count": 1,
   "id": "4da87c8f",
   "metadata": {},
   "outputs": [],
   "source": [
    "#import dependencies\n",
    "from requests import Session\n",
    "import pandas as pd\n",
    "from bs4 import BeautifulSoup as soup\n",
    "import time\n"
   ]
  },
  {
   "cell_type": "code",
   "execution_count": 2,
   "id": "510b0f5f",
   "metadata": {},
   "outputs": [],
   "source": [
    "#initiate the session\n",
    "main_session = Session()\n",
    "#create a variable with all the locations\n",
    "cities = [\"barrie\",\"brampton\",\"caledon\",\"hamilton\",\"innisfil\",\"markham\",\"milton\",\"mississauga\",\"oakville\",\"oshawa\",\"richmond-hill\",\"toronto\",\"vaughan\",\"whitchurch-stouffville\"]\n",
    "\n",
    "#creating a dataframe with the requisite variables\n",
    "\n",
    "df_historical = pd.DataFrame(columns = [\"City\",\"Year\",\"Month\",\"Sold\",\"List_price_avg\",\"Sold_price_avg\",\"above_below\",\"monthly_change\",\"monthly_change_per\",\"days_on_mar\"])"
   ]
  },
  {
   "cell_type": "code",
   "execution_count": 3,
   "id": "1ff18464",
   "metadata": {},
   "outputs": [
    {
     "name": "stdout",
     "output_type": "stream",
     "text": [
      "scraping barrie historical information\n",
      "scraping brampton historical information\n",
      "scraping caledon historical information\n",
      "scraping hamilton historical information\n",
      "scraping innisfil historical information\n",
      "scraping markham historical information\n",
      "scraping milton historical information\n",
      "scraping mississauga historical information\n",
      "scraping oakville historical information\n",
      "scraping oshawa historical information\n",
      "scraping richmond-hill historical information\n",
      "scraping toronto historical information\n",
      "scraping vaughan historical information\n",
      "scraping whitchurch-stouffville historical information\n"
     ]
    }
   ],
   "source": [
    "#using a for loop to get city urls\n",
    "for city in cities:\n",
    "    url = f\"https://{city}.listing.ca/real-estate-price-history.htm\"\n",
    "    print(f\"scraping {city} historical information\")\n",
    "    resp = main_session.get(url)\n",
    "    time.sleep(3)\n",
    "    historical_page = soup(resp.content, 'html.parser')\n",
    "    tables = historical_page.find_all(\"table\",style = \"width:100%;\", cellspacing = \"5\")\n",
    "    k=2022\n",
    "    for i in range(0,len(tables)):\n",
    "        row = tables[i].find_all(\"tr\")\n",
    "        k=k-1\n",
    "        for j in range(1,len(row)):\n",
    "            columns = row[j].find_all(\"td\")\n",
    "            if (columns !=[]):\n",
    "                a = columns[0].text.strip()\n",
    "                b = columns[1].text.strip()\n",
    "                c = columns[2].text.strip()\n",
    "                d = columns[3].text.strip()\n",
    "                e = columns[4].text.strip()\n",
    "                f = columns[5].text.strip()\n",
    "                g = columns[6].text.strip()\n",
    "                h = columns[7].text.strip()\n",
    "                i = city\n",
    "            \n",
    "                df_historical = df_historical.append({\"City\": i, \"Year\": k, \"Month\": a, \"Sold\": b, \"List_price_avg\": c, \"Sold_price_avg\": d, \"above_below\": e, \"monthly_change\": f, \"monthly_change_per\": g, \"days_on_mar\": h}, ignore_index=True)\n",
    "                \n",
    "                "
   ]
  },
  {
   "cell_type": "code",
   "execution_count": 4,
   "id": "2133c0f5",
   "metadata": {},
   "outputs": [
    {
     "name": "stdout",
     "output_type": "stream",
     "text": [
      "<class 'pandas.core.frame.DataFrame'>\n",
      "RangeIndex: 1680 entries, 0 to 1679\n",
      "Data columns (total 10 columns):\n",
      " #   Column              Non-Null Count  Dtype \n",
      "---  ------              --------------  ----- \n",
      " 0   City                1680 non-null   object\n",
      " 1   Year                1680 non-null   object\n",
      " 2   Month               1680 non-null   object\n",
      " 3   Sold                1680 non-null   object\n",
      " 4   List_price_avg      1680 non-null   object\n",
      " 5   Sold_price_avg      1680 non-null   object\n",
      " 6   above_below         1680 non-null   object\n",
      " 7   monthly_change      1680 non-null   object\n",
      " 8   monthly_change_per  1680 non-null   object\n",
      " 9   days_on_mar         1680 non-null   object\n",
      "dtypes: object(10)\n",
      "memory usage: 131.4+ KB\n"
     ]
    }
   ],
   "source": [
    "df_historical.info()"
   ]
  },
  {
   "cell_type": "code",
   "execution_count": 5,
   "id": "b08c13b6",
   "metadata": {},
   "outputs": [],
   "source": [
    "df_historical.to_csv(\"historical_info.csv\")"
   ]
  },
  {
   "cell_type": "code",
   "execution_count": null,
   "id": "01611928",
   "metadata": {},
   "outputs": [],
   "source": []
  }
 ],
 "metadata": {
  "kernelspec": {
   "display_name": "Python 3",
   "language": "python",
   "name": "python3"
  },
  "language_info": {
   "codemirror_mode": {
    "name": "ipython",
    "version": 3
   },
   "file_extension": ".py",
   "mimetype": "text/x-python",
   "name": "python",
   "nbconvert_exporter": "python",
   "pygments_lexer": "ipython3",
   "version": "3.9.4"
  }
 },
 "nbformat": 4,
 "nbformat_minor": 5
}
