{
 "cells": [
  {
   "cell_type": "code",
   "execution_count": 1,
   "id": "e2f43e2c",
   "metadata": {},
   "outputs": [],
   "source": [
    "from geopy.geocoders import Nominatim"
   ]
  },
  {
   "cell_type": "code",
   "execution_count": 2,
   "id": "692a9534",
   "metadata": {},
   "outputs": [],
   "source": [
    "geolocator = Nominatim(user_agent='my_app')"
   ]
  },
  {
   "cell_type": "code",
   "execution_count": 3,
   "id": "5454e07c",
   "metadata": {},
   "outputs": [],
   "source": [
    "location = geolocator.geocode(\"1134 Edinburgh Dr\")"
   ]
  },
  {
   "cell_type": "code",
   "execution_count": 4,
   "id": "4ec5f7ac",
   "metadata": {},
   "outputs": [
    {
     "name": "stdout",
     "output_type": "stream",
     "text": [
      "1134, Edinburgh Drive, High Point, Guilford County, North Carolina, 27282, United States\n"
     ]
    }
   ],
   "source": [
    "print(location)"
   ]
  },
  {
   "cell_type": "code",
   "execution_count": 19,
   "id": "7c2262db",
   "metadata": {},
   "outputs": [],
   "source": [
    "geocode = lambda query: geolocator.geocode(\"%s, Ontario\" % query)\n",
    "location = geocode(\"1089 Yonge Street\")"
   ]
  },
  {
   "cell_type": "code",
   "execution_count": 26,
   "id": "1eb5f86e",
   "metadata": {},
   "outputs": [
    {
     "name": "stdout",
     "output_type": "stream",
     "text": [
      "Edinburgh Drive, Woodstock, Oxford County, Southwestern Ontario, Ontario, N4T 1R8, Canada 43.1643781 -80.7490699\n"
     ]
    }
   ],
   "source": [
    "print(location, location.latitude, location.longitude)"
   ]
  },
  {
   "cell_type": "code",
   "execution_count": 21,
   "id": "d9967629",
   "metadata": {},
   "outputs": [],
   "source": [
    "pc = str(location).split(\", \")[-2]"
   ]
  },
  {
   "cell_type": "code",
   "execution_count": 22,
   "id": "09e2faa6",
   "metadata": {},
   "outputs": [
    {
     "name": "stdout",
     "output_type": "stream",
     "text": [
      "M4W 2L7\n"
     ]
    }
   ],
   "source": [
    "print(pc)"
   ]
  },
  {
   "cell_type": "code",
   "execution_count": 23,
   "id": "8258e49d",
   "metadata": {},
   "outputs": [],
   "source": [
    "geocode = lambda query: geolocator.geocode(\"%s, N4T 1R8\" % query)\n",
    "location = geocode(\"1134 Edinburgh Dr\")"
   ]
  },
  {
   "cell_type": "code",
   "execution_count": 30,
   "id": "a8e19cb9",
   "metadata": {},
   "outputs": [
    {
     "name": "stdout",
     "output_type": "stream",
     "text": [
      "Edinburgh Drive, Woodstock, Oxford County, Southwestern Ontario, Ontario, N4T 1R8, Canada\n"
     ]
    }
   ],
   "source": [
    "print(location)"
   ]
  },
  {
   "cell_type": "code",
   "execution_count": 31,
   "id": "c6eb63b3",
   "metadata": {},
   "outputs": [
    {
     "name": "stdout",
     "output_type": "stream",
     "text": [
      "{'place_id': 260969665, 'licence': 'Data © OpenStreetMap contributors, ODbL 1.0. https://osm.org/copyright', 'osm_type': 'way', 'osm_id': 828252918, 'boundingbox': ['43.1631689', '43.1643781', '-80.7490699', '-80.7483535'], 'lat': '43.1643781', 'lon': '-80.7490699', 'display_name': 'Edinburgh Drive, Woodstock, Oxford County, Southwestern Ontario, Ontario, N4T 1R8, Canada', 'class': 'highway', 'type': 'residential', 'importance': 0.5}\n"
     ]
    }
   ],
   "source": [
    "geolocator.reverse('43.1643781, -80.7490699')\n",
    "loc_dict = location.raw\n",
    "print(loc_dict)"
   ]
  },
  {
   "cell_type": "code",
   "execution_count": null,
   "id": "6cbec41a",
   "metadata": {},
   "outputs": [],
   "source": []
  }
 ],
 "metadata": {
  "kernelspec": {
   "display_name": "mlenv",
   "language": "python",
   "name": "mlenv"
  },
  "language_info": {
   "codemirror_mode": {
    "name": "ipython",
    "version": 3
   },
   "file_extension": ".py",
   "mimetype": "text/x-python",
   "name": "python",
   "nbconvert_exporter": "python",
   "pygments_lexer": "ipython3",
   "version": "3.9.7"
  }
 },
 "nbformat": 4,
 "nbformat_minor": 5
}
