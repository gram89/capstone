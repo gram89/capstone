{
 "cells": [
  {
   "cell_type": "code",
   "execution_count": 1,
   "metadata": {},
   "outputs": [],
   "source": [
    "import pandas as pd\n",
    "from sklearn.preprocessing import MinMaxScaler, LabelEncoder\n",
    "from sklearn.cluster import KMeans\n",
    "from matplotlib import pyplot as plt"
   ]
  },
  {
   "cell_type": "code",
   "execution_count": 2,
   "metadata": {},
   "outputs": [
    {
     "data": {
      "text/html": [
       "<div>\n",
       "<style scoped>\n",
       "    .dataframe tbody tr th:only-of-type {\n",
       "        vertical-align: middle;\n",
       "    }\n",
       "\n",
       "    .dataframe tbody tr th {\n",
       "        vertical-align: top;\n",
       "    }\n",
       "\n",
       "    .dataframe thead th {\n",
       "        text-align: right;\n",
       "    }\n",
       "</style>\n",
       "<table border=\"1\" class=\"dataframe\">\n",
       "  <thead>\n",
       "    <tr style=\"text-align: right;\">\n",
       "      <th></th>\n",
       "      <th>Unnamed: 0</th>\n",
       "      <th>Address</th>\n",
       "      <th>Price</th>\n",
       "      <th>Beds</th>\n",
       "      <th>Baths</th>\n",
       "      <th>City</th>\n",
       "      <th>Area</th>\n",
       "      <th>Street</th>\n",
       "      <th>Description</th>\n",
       "    </tr>\n",
       "  </thead>\n",
       "  <tbody>\n",
       "    <tr>\n",
       "      <th>0</th>\n",
       "      <td>0</td>\n",
       "      <td>2323 Confederation Pkwy 1102</td>\n",
       "      <td>430000</td>\n",
       "      <td>2</td>\n",
       "      <td>2</td>\n",
       "      <td>Mississauga</td>\n",
       "      <td>Cooksville</td>\n",
       "      <td>Confederation Pkwy</td>\n",
       "      <td>Beautiful Bright And Spacious Condo Unit 2 Bed...</td>\n",
       "    </tr>\n",
       "    <tr>\n",
       "      <th>1</th>\n",
       "      <td>1</td>\n",
       "      <td>816 Lansdowne Ave 411</td>\n",
       "      <td>598000</td>\n",
       "      <td>2</td>\n",
       "      <td>1</td>\n",
       "      <td>Toronto</td>\n",
       "      <td>Dovercourt-Wallace Emerson-Junction</td>\n",
       "      <td>Lansdowne Ave</td>\n",
       "      <td>Large Renovated One Bedroom+Den 646 Sf! Great ...</td>\n",
       "    </tr>\n",
       "    <tr>\n",
       "      <th>2</th>\n",
       "      <td>6</td>\n",
       "      <td>109 Lake St</td>\n",
       "      <td>750000</td>\n",
       "      <td>4</td>\n",
       "      <td>2</td>\n",
       "      <td>St. Catharines</td>\n",
       "      <td>NaN</td>\n",
       "      <td>NaN</td>\n",
       "      <td>Investors!! Maintenance-Free Solid 4 Plex-Full...</td>\n",
       "    </tr>\n",
       "    <tr>\n",
       "      <th>3</th>\n",
       "      <td>7</td>\n",
       "      <td>321 Queenston Rd</td>\n",
       "      <td>1899000</td>\n",
       "      <td>4</td>\n",
       "      <td>4</td>\n",
       "      <td>Niagara-on-the-Lake</td>\n",
       "      <td>NaN</td>\n",
       "      <td>NaN</td>\n",
       "      <td>Welcome To 321 Queenston Rd, Overlooking Viney...</td>\n",
       "    </tr>\n",
       "    <tr>\n",
       "      <th>4</th>\n",
       "      <td>8</td>\n",
       "      <td>650 Upper Sherman Ave</td>\n",
       "      <td>899000</td>\n",
       "      <td>4</td>\n",
       "      <td>2</td>\n",
       "      <td>Hamilton</td>\n",
       "      <td>Burkholme</td>\n",
       "      <td>Upper Sherman Ave</td>\n",
       "      <td>Absolutely Fantastic Opportunity !!! Detach Ho...</td>\n",
       "    </tr>\n",
       "  </tbody>\n",
       "</table>\n",
       "</div>"
      ],
      "text/plain": [
       "   Unnamed: 0                       Address    Price  Beds  Baths  \\\n",
       "0           0  2323 Confederation Pkwy 1102   430000     2      2   \n",
       "1           1         816 Lansdowne Ave 411   598000     2      1   \n",
       "2           6                   109 Lake St   750000     4      2   \n",
       "3           7              321 Queenston Rd  1899000     4      4   \n",
       "4           8         650 Upper Sherman Ave   899000     4      2   \n",
       "\n",
       "                  City                                 Area  \\\n",
       "0          Mississauga                           Cooksville   \n",
       "1              Toronto  Dovercourt-Wallace Emerson-Junction   \n",
       "2       St. Catharines                                  NaN   \n",
       "3  Niagara-on-the-Lake                                  NaN   \n",
       "4             Hamilton                            Burkholme   \n",
       "\n",
       "               Street                                        Description  \n",
       "0  Confederation Pkwy  Beautiful Bright And Spacious Condo Unit 2 Bed...  \n",
       "1       Lansdowne Ave  Large Renovated One Bedroom+Den 646 Sf! Great ...  \n",
       "2                 NaN  Investors!! Maintenance-Free Solid 4 Plex-Full...  \n",
       "3                 NaN  Welcome To 321 Queenston Rd, Overlooking Viney...  \n",
       "4   Upper Sherman Ave  Absolutely Fantastic Opportunity !!! Detach Ho...  "
      ]
     },
     "execution_count": 2,
     "metadata": {},
     "output_type": "execute_result"
    }
   ],
   "source": [
    "df = pd.read_csv('Listing_cleaned.csv')\n",
    "df.head()"
   ]
  },
  {
   "cell_type": "code",
   "execution_count": 3,
   "metadata": {
    "scrolled": true
   },
   "outputs": [
    {
     "data": {
      "text/plain": [
       "Toronto                      178\n",
       "Mississauga                  103\n",
       "Vaughan                       85\n",
       "Brampton                      79\n",
       "Richmond Hill                 72\n",
       "Markham                       71\n",
       "Hamilton                      66\n",
       "Oakville                      55\n",
       "Burlington                    48\n",
       "Barrie                        44\n",
       "Oshawa                        40\n",
       "Milton                        40\n",
       "Kitchener                     37\n",
       "Caledon                       34\n",
       "Whitby                        31\n",
       "Aurora                        30\n",
       "Georgina                      29\n",
       "Clarington                    29\n",
       "Newmarket                     28\n",
       "Pickering                     26\n",
       "Kawartha Lakes                25\n",
       "Niagara Falls                 24\n",
       "New Tecumseth                 24\n",
       "Innisfil                      24\n",
       "Waterloo                      23\n",
       "Whitchurch-Stouffville        22\n",
       "Ajax                          22\n",
       "East Gwillimbury              22\n",
       "Guelph                        21\n",
       "St. Catharines                21\n",
       "Halton Hills                  18\n",
       "Brantford                     17\n",
       "Cambridge                     14\n",
       "Blue Mountains                14\n",
       "London                        14\n",
       "Oro-Medonte                   14\n",
       "Wasaga Beach                  13\n",
       "Bradford West Gwillimbury     13\n",
       "Orangeville                   13\n",
       "King                          12\n",
       "Grimsby                       12\n",
       "Haldimand                     11\n",
       "Orillia                       11\n",
       "Lincoln                       11\n",
       "Essa                          10\n",
       "Ottawa                        10\n",
       "Welland                       10\n",
       "Thorold                       10\n",
       "Port Hope                     10\n",
       "Quinte West                   10\n",
       "Cobourg                        8\n",
       "Out of Area                    8\n",
       "Peterborough                   8\n",
       "Springwater                    8\n",
       "Ramara                         8\n",
       "Uxbridge                       7\n",
       "Meaford                        7\n",
       "Windsor                        7\n",
       "Hamilton Township              7\n",
       "Brighton                       7\n",
       "Name: City, dtype: int64"
      ]
     },
     "execution_count": 3,
     "metadata": {},
     "output_type": "execute_result"
    }
   ],
   "source": [
    "df['City'].value_counts().head(60)"
   ]
  },
  {
   "cell_type": "code",
   "execution_count": null,
   "metadata": {},
   "outputs": [],
   "source": []
  },
  {
   "cell_type": "code",
   "execution_count": null,
   "metadata": {},
   "outputs": [],
   "source": [
    "df['City'] = df['City'].apply(lambda x: x if x in ('Toronto','Mississauga','Vaughan','Brampton','Richmond Hill','Markham','Hamilton','Oakville','Burlington','Barrie','Oshawa','Milton','Kitchener','Caledon','Whitby','Aurora','Georgina','Clarington','Newmarket','Pickering','Kawartha Lakes','Niagara Falls','New Tecumseth','Innisfil','Waterloo','Whitchurch-Stouffville','Ajax','East Gwillimbury','Guelph','St. Catharines','Halton Hills','Brantford','Cambridge','Blue Mountains','London','Oro-Medonte','Wasaga Beach','Bradford West Gwillimbury','Orangeville','King','Grimsby','Haldimand','Orillia','Lincoln','Essa','Ottawa','Welland','Thorold','Port Hope','Quinte West') else 'Other')"
   ]
  },
  {
   "cell_type": "code",
   "execution_count": 7,
   "metadata": {},
   "outputs": [
    {
     "data": {
      "text/plain": [
       "True     219\n",
       "False    143\n",
       "Name: City, dtype: int64"
      ]
     },
     "execution_count": 7,
     "metadata": {},
     "output_type": "execute_result"
    }
   ],
   "source": [
    "df1 = df['City'].value_counts() == 1\n",
    "\n",
    "df1.value_counts()"
   ]
  },
  {
   "cell_type": "code",
   "execution_count": null,
   "metadata": {},
   "outputs": [],
   "source": [
    "df[['half','finish']] = df[['half','finish']].apply(pd.to_timedelta).apply(lambda x: x.dt.total_seconds())"
   ]
  },
  {
   "cell_type": "code",
   "execution_count": null,
   "metadata": {},
   "outputs": [],
   "source": [
    "X = df[['half','finish', 'division', 'country']].copy()\n",
    "X['division'] = LabelEncoder().fit_transform(X['division'])\n",
    "X['country'] = LabelEncoder().fit_transform(X['country'])\n",
    "X = X.dropna()\n",
    "X.head()"
   ]
  },
  {
   "cell_type": "code",
   "execution_count": null,
   "metadata": {},
   "outputs": [],
   "source": [
    "# Scale the dataset using MinMaxScaler()\n",
    "X_scaled = MinMaxScaler().fit_transform(X)\n",
    "X_scaled"
   ]
  },
  {
   "cell_type": "code",
   "execution_count": null,
   "metadata": {},
   "outputs": [],
   "source": [
    "sse = {}\n",
    "K = range(1, 10)\n",
    "for k in K:\n",
    "    kmeanmodel = KMeans(n_clusters=k).fit(X_scaled)\n",
    "    sse[k]= kmeanmodel.inertia_\n",
    "    \n",
    "# Plot\n",
    "plt.plot(list(sse.keys()), list(sse.values()))\n",
    "plt.xlabel('k')\n",
    "plt.ylabel('SSE')\n",
    "plt.title('Elbow Method')\n",
    "plt.show()"
   ]
  },
  {
   "cell_type": "code",
   "execution_count": null,
   "metadata": {},
   "outputs": [],
   "source": [
    "# Create a KMeans model with 3 clusters\n",
    "model = KMeans(n_clusters=3, random_state=42).fit(X_scaled)"
   ]
  },
  {
   "cell_type": "code",
   "execution_count": null,
   "metadata": {},
   "outputs": [],
   "source": [
    "# Calculate predicted values.\n",
    "y_pred = model.predict(X_scaled)"
   ]
  },
  {
   "cell_type": "code",
   "execution_count": null,
   "metadata": {},
   "outputs": [],
   "source": [
    "# Add prediected values onto the original dataframe\n",
    "df_y = pd.DataFrame(y_pred, columns=['Cluster'])\n",
    "combined = df.join(df_y, how='inner')\n",
    "combined.head()"
   ]
  },
  {
   "cell_type": "code",
   "execution_count": null,
   "metadata": {},
   "outputs": [],
   "source": [
    "# Plot boxplots of the official time distributions by cluster\n",
    "combined.boxplot(['finish'], by=['Cluster'])"
   ]
  },
  {
   "cell_type": "code",
   "execution_count": null,
   "metadata": {},
   "outputs": [],
   "source": [
    "# Plot median finish times by division for each cluster\n",
    "combined[combined['Cluster'] == 0].groupby('division').median()['finish'].plot()\n",
    "combined[combined['Cluster'] == 1].groupby('division').median()['finish'].plot()\n",
    "combined[combined['Cluster'] == 2].groupby('division').median()['finish'].plot()"
   ]
  },
  {
   "cell_type": "code",
   "execution_count": null,
   "metadata": {},
   "outputs": [],
   "source": []
  }
 ],
 "metadata": {
  "kernelspec": {
   "display_name": "mlenv",
   "language": "python",
   "name": "mlenv"
  },
  "language_info": {
   "codemirror_mode": {
    "name": "ipython",
    "version": 3
   },
   "file_extension": ".py",
   "mimetype": "text/x-python",
   "name": "python",
   "nbconvert_exporter": "python",
   "pygments_lexer": "ipython3",
   "version": "3.9.7"
  }
 },
 "nbformat": 4,
 "nbformat_minor": 2
}
