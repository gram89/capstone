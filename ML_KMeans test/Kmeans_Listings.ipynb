{
 "cells": [
  {
   "cell_type": "code",
   "execution_count": 1,
   "metadata": {
    "collapsed": true
   },
   "outputs": [],
   "source": [
    "import pandas as pd\n",
    "from sklearn.preprocessing import MinMaxScaler, LabelEncoder\n",
    "from sklearn.cluster import KMeans\n",
    "from matplotlib import pyplot as plt"
   ]
  },
  {
   "cell_type": "code",
   "execution_count": 2,
   "metadata": {},
   "outputs": [
    {
     "data": {
      "text/html": [
       "<div>\n",
       "<style scoped>\n",
       "    .dataframe tbody tr th:only-of-type {\n",
       "        vertical-align: middle;\n",
       "    }\n",
       "\n",
       "    .dataframe tbody tr th {\n",
       "        vertical-align: top;\n",
       "    }\n",
       "\n",
       "    .dataframe thead th {\n",
       "        text-align: right;\n",
       "    }\n",
       "</style>\n",
       "<table border=\"1\" class=\"dataframe\">\n",
       "  <thead>\n",
       "    <tr style=\"text-align: right;\">\n",
       "      <th></th>\n",
       "      <th>place_overall</th>\n",
       "      <th>place_gender</th>\n",
       "      <th>bib</th>\n",
       "      <th>name</th>\n",
       "      <th>division</th>\n",
       "      <th>half</th>\n",
       "      <th>finish</th>\n",
       "    </tr>\n",
       "  </thead>\n",
       "  <tbody>\n",
       "    <tr>\n",
       "      <th>0</th>\n",
       "      <td>1</td>\n",
       "      <td>1</td>\n",
       "      <td>1</td>\n",
       "      <td>Farah, Mo (GBR)</td>\n",
       "      <td>35-39</td>\n",
       "      <td>1:03:06</td>\n",
       "      <td>2:05:11</td>\n",
       "    </tr>\n",
       "    <tr>\n",
       "      <th>1</th>\n",
       "      <td>2</td>\n",
       "      <td>2</td>\n",
       "      <td>2</td>\n",
       "      <td>Bayih, Mosinet Geremew (ETH)</td>\n",
       "      <td>25-29</td>\n",
       "      <td>1:03:04</td>\n",
       "      <td>2:05:24</td>\n",
       "    </tr>\n",
       "    <tr>\n",
       "      <th>2</th>\n",
       "      <td>3</td>\n",
       "      <td>3</td>\n",
       "      <td>3</td>\n",
       "      <td>Osako, Suguru (JPN)</td>\n",
       "      <td>25-29</td>\n",
       "      <td>1:03:04</td>\n",
       "      <td>2:05:50</td>\n",
       "    </tr>\n",
       "    <tr>\n",
       "      <th>3</th>\n",
       "      <td>4</td>\n",
       "      <td>4</td>\n",
       "      <td>4</td>\n",
       "      <td>Kipkemoi, Kenneth (KEN)</td>\n",
       "      <td>30-34</td>\n",
       "      <td>1:03:04</td>\n",
       "      <td>2:05:57</td>\n",
       "    </tr>\n",
       "    <tr>\n",
       "      <th>4</th>\n",
       "      <td>5</td>\n",
       "      <td>5</td>\n",
       "      <td>5</td>\n",
       "      <td>Rupp, Galen (USA)</td>\n",
       "      <td>30-34</td>\n",
       "      <td>1:03:04</td>\n",
       "      <td>2:06:21</td>\n",
       "    </tr>\n",
       "  </tbody>\n",
       "</table>\n",
       "</div>"
      ],
      "text/plain": [
       "   place_overall  place_gender  bib                          name division  \\\n",
       "0              1             1    1               Farah, Mo (GBR)    35-39   \n",
       "1              2             2    2  Bayih, Mosinet Geremew (ETH)    25-29   \n",
       "2              3             3    3           Osako, Suguru (JPN)    25-29   \n",
       "3              4             4    4       Kipkemoi, Kenneth (KEN)    30-34   \n",
       "4              5             5    5             Rupp, Galen (USA)    30-34   \n",
       "\n",
       "      half   finish  \n",
       "0  1:03:06  2:05:11  \n",
       "1  1:03:04  2:05:24  \n",
       "2  1:03:04  2:05:50  \n",
       "3  1:03:04  2:05:57  \n",
       "4  1:03:04  2:06:21  "
      ]
     },
     "execution_count": 2,
     "metadata": {},
     "output_type": "execute_result"
    }
   ],
   "source": [
    "df = pd.read_csv('../Resources/chicago_marathon_2018.csv')\n",
    "df.head()"
   ]
  },
  {
   "cell_type": "code",
   "execution_count": 3,
   "metadata": {},
   "outputs": [
    {
     "data": {
      "text/html": [
       "<div>\n",
       "<style scoped>\n",
       "    .dataframe tbody tr th:only-of-type {\n",
       "        vertical-align: middle;\n",
       "    }\n",
       "\n",
       "    .dataframe tbody tr th {\n",
       "        vertical-align: top;\n",
       "    }\n",
       "\n",
       "    .dataframe thead th {\n",
       "        text-align: right;\n",
       "    }\n",
       "</style>\n",
       "<table border=\"1\" class=\"dataframe\">\n",
       "  <thead>\n",
       "    <tr style=\"text-align: right;\">\n",
       "      <th></th>\n",
       "      <th>place_overall</th>\n",
       "      <th>place_gender</th>\n",
       "      <th>bib</th>\n",
       "      <th>name</th>\n",
       "      <th>division</th>\n",
       "      <th>half</th>\n",
       "      <th>finish</th>\n",
       "      <th>country</th>\n",
       "    </tr>\n",
       "  </thead>\n",
       "  <tbody>\n",
       "    <tr>\n",
       "      <th>0</th>\n",
       "      <td>1</td>\n",
       "      <td>1</td>\n",
       "      <td>1</td>\n",
       "      <td>Farah, Mo (GBR)</td>\n",
       "      <td>35-39</td>\n",
       "      <td>1:03:06</td>\n",
       "      <td>2:05:11</td>\n",
       "      <td>GBR</td>\n",
       "    </tr>\n",
       "    <tr>\n",
       "      <th>1</th>\n",
       "      <td>2</td>\n",
       "      <td>2</td>\n",
       "      <td>2</td>\n",
       "      <td>Bayih, Mosinet Geremew (ETH)</td>\n",
       "      <td>25-29</td>\n",
       "      <td>1:03:04</td>\n",
       "      <td>2:05:24</td>\n",
       "      <td>ETH</td>\n",
       "    </tr>\n",
       "    <tr>\n",
       "      <th>2</th>\n",
       "      <td>3</td>\n",
       "      <td>3</td>\n",
       "      <td>3</td>\n",
       "      <td>Osako, Suguru (JPN)</td>\n",
       "      <td>25-29</td>\n",
       "      <td>1:03:04</td>\n",
       "      <td>2:05:50</td>\n",
       "      <td>JPN</td>\n",
       "    </tr>\n",
       "    <tr>\n",
       "      <th>3</th>\n",
       "      <td>4</td>\n",
       "      <td>4</td>\n",
       "      <td>4</td>\n",
       "      <td>Kipkemoi, Kenneth (KEN)</td>\n",
       "      <td>30-34</td>\n",
       "      <td>1:03:04</td>\n",
       "      <td>2:05:57</td>\n",
       "      <td>KEN</td>\n",
       "    </tr>\n",
       "    <tr>\n",
       "      <th>4</th>\n",
       "      <td>5</td>\n",
       "      <td>5</td>\n",
       "      <td>5</td>\n",
       "      <td>Rupp, Galen (USA)</td>\n",
       "      <td>30-34</td>\n",
       "      <td>1:03:04</td>\n",
       "      <td>2:06:21</td>\n",
       "      <td>USA</td>\n",
       "    </tr>\n",
       "  </tbody>\n",
       "</table>\n",
       "</div>"
      ],
      "text/plain": [
       "   place_overall  place_gender  bib                          name division  \\\n",
       "0              1             1    1               Farah, Mo (GBR)    35-39   \n",
       "1              2             2    2  Bayih, Mosinet Geremew (ETH)    25-29   \n",
       "2              3             3    3           Osako, Suguru (JPN)    25-29   \n",
       "3              4             4    4       Kipkemoi, Kenneth (KEN)    30-34   \n",
       "4              5             5    5             Rupp, Galen (USA)    30-34   \n",
       "\n",
       "      half   finish country  \n",
       "0  1:03:06  2:05:11     GBR  \n",
       "1  1:03:04  2:05:24     ETH  \n",
       "2  1:03:04  2:05:50     JPN  \n",
       "3  1:03:04  2:05:57     KEN  \n",
       "4  1:03:04  2:06:21     USA  "
      ]
     },
     "execution_count": 3,
     "metadata": {},
     "output_type": "execute_result"
    }
   ],
   "source": [
    "df['country'] = df['name'].str.extract('\\((.{3})\\)')\n",
    "df = df.dropna()\n",
    "df.head()"
   ]
  },
  {
   "cell_type": "code",
   "execution_count": 4,
   "metadata": {},
   "outputs": [
    {
     "data": {
      "text/plain": [
       "USA    13822\n",
       "MEX     1221\n",
       "GBR      911\n",
       "CHN      812\n",
       "CAN      729\n",
       "BRA      627\n",
       "GER      356\n",
       "ESP      344\n",
       "ITA      342\n",
       "FRA      315\n",
       "IND      275\n",
       "JPN      235\n",
       "CRC      222\n",
       "HKG      218\n",
       "COL      192\n",
       "AUS      184\n",
       "IRL      177\n",
       "TWN      170\n",
       "ARG      170\n",
       "NED      157\n",
       "Name: country, dtype: int64"
      ]
     },
     "execution_count": 4,
     "metadata": {},
     "output_type": "execute_result"
    }
   ],
   "source": [
    "df['country'].value_counts().head(20)"
   ]
  },
  {
   "cell_type": "code",
   "execution_count": 5,
   "metadata": {
    "collapsed": true
   },
   "outputs": [],
   "source": [
    "df['country'] = df['country'].apply(lambda x: x if x in ('USA', 'MEX', 'GBR', 'CHN', 'CAN') else 'Other')"
   ]
  },
  {
   "cell_type": "code",
   "execution_count": 6,
   "metadata": {
    "collapsed": true
   },
   "outputs": [],
   "source": [
    "df[['half','finish']] = df[['half','finish']].apply(pd.to_timedelta).apply(lambda x: x.dt.total_seconds())"
   ]
  },
  {
   "cell_type": "code",
   "execution_count": 7,
   "metadata": {},
   "outputs": [
    {
     "data": {
      "text/html": [
       "<div>\n",
       "<style scoped>\n",
       "    .dataframe tbody tr th:only-of-type {\n",
       "        vertical-align: middle;\n",
       "    }\n",
       "\n",
       "    .dataframe tbody tr th {\n",
       "        vertical-align: top;\n",
       "    }\n",
       "\n",
       "    .dataframe thead th {\n",
       "        text-align: right;\n",
       "    }\n",
       "</style>\n",
       "<table border=\"1\" class=\"dataframe\">\n",
       "  <thead>\n",
       "    <tr style=\"text-align: right;\">\n",
       "      <th></th>\n",
       "      <th>half</th>\n",
       "      <th>finish</th>\n",
       "      <th>division</th>\n",
       "      <th>country</th>\n",
       "    </tr>\n",
       "  </thead>\n",
       "  <tbody>\n",
       "    <tr>\n",
       "      <th>0</th>\n",
       "      <td>3786.0</td>\n",
       "      <td>7511.0</td>\n",
       "      <td>4</td>\n",
       "      <td>2</td>\n",
       "    </tr>\n",
       "    <tr>\n",
       "      <th>1</th>\n",
       "      <td>3784.0</td>\n",
       "      <td>7524.0</td>\n",
       "      <td>2</td>\n",
       "      <td>4</td>\n",
       "    </tr>\n",
       "    <tr>\n",
       "      <th>2</th>\n",
       "      <td>3784.0</td>\n",
       "      <td>7550.0</td>\n",
       "      <td>2</td>\n",
       "      <td>4</td>\n",
       "    </tr>\n",
       "    <tr>\n",
       "      <th>3</th>\n",
       "      <td>3784.0</td>\n",
       "      <td>7557.0</td>\n",
       "      <td>3</td>\n",
       "      <td>4</td>\n",
       "    </tr>\n",
       "    <tr>\n",
       "      <th>4</th>\n",
       "      <td>3784.0</td>\n",
       "      <td>7581.0</td>\n",
       "      <td>3</td>\n",
       "      <td>5</td>\n",
       "    </tr>\n",
       "  </tbody>\n",
       "</table>\n",
       "</div>"
      ],
      "text/plain": [
       "     half  finish  division  country\n",
       "0  3786.0  7511.0         4        2\n",
       "1  3784.0  7524.0         2        4\n",
       "2  3784.0  7550.0         2        4\n",
       "3  3784.0  7557.0         3        4\n",
       "4  3784.0  7581.0         3        5"
      ]
     },
     "execution_count": 7,
     "metadata": {},
     "output_type": "execute_result"
    }
   ],
   "source": [
    "X = df[['half','finish', 'division', 'country']].copy()\n",
    "X['division'] = LabelEncoder().fit_transform(X['division'])\n",
    "X['country'] = LabelEncoder().fit_transform(X['country'])\n",
    "X = X.dropna()\n",
    "X.head()"
   ]
  },
  {
   "cell_type": "code",
   "execution_count": 8,
   "metadata": {},
   "outputs": [
    {
     "data": {
      "text/plain": [
       "array([[2.19170076e-04, 0.00000000e+00, 3.07692308e-01, 4.00000000e-01],\n",
       "       [7.30566920e-05, 5.18237991e-04, 1.53846154e-01, 8.00000000e-01],\n",
       "       [7.30566920e-05, 1.55471397e-03, 1.53846154e-01, 8.00000000e-01],\n",
       "       ...,\n",
       "       [6.76870251e-01, 9.45026909e-01, 7.69230769e-01, 1.00000000e+00],\n",
       "       [6.60432496e-01, 9.49212677e-01, 6.92307692e-01, 1.00000000e+00],\n",
       "       [6.79208065e-01, 1.00000000e+00, 5.38461538e-01, 1.00000000e+00]])"
      ]
     },
     "execution_count": 8,
     "metadata": {},
     "output_type": "execute_result"
    }
   ],
   "source": [
    "# Scale the dataset using MinMaxScaler()\n",
    "X_scaled = MinMaxScaler().fit_transform(X)\n",
    "X_scaled"
   ]
  },
  {
   "cell_type": "code",
   "execution_count": 9,
   "metadata": {},
   "outputs": [
    {
     "data": {
      "image/png": "[encoded data removed]",
      "text/plain": [
       "<matplotlib.figure.Figure at 0x1dc52b614a8>"
      ]
     },
     "metadata": {
      "needs_background": "light"
     },
     "output_type": "display_data"
    }
   ],
   "source": [
    "sse = {}\n",
    "K = range(1, 10)\n",
    "for k in K:\n",
    "    kmeanmodel = KMeans(n_clusters=k).fit(X_scaled)\n",
    "    sse[k]= kmeanmodel.inertia_\n",
    "    \n",
    "# Plot\n",
    "plt.plot(list(sse.keys()), list(sse.values()))\n",
    "plt.xlabel('k')\n",
    "plt.ylabel('SSE')\n",
    "plt.title('Elbow Method')\n",
    "plt.show()"
   ]
  },
  {
   "cell_type": "code",
   "execution_count": 10,
   "metadata": {
    "collapsed": true
   },
   "outputs": [],
   "source": [
    "# Create a KMeans model with 3 clusters\n",
    "model = KMeans(n_clusters=3, random_state=42).fit(X_scaled)"
   ]
  },
  {
   "cell_type": "code",
   "execution_count": 11,
   "metadata": {
    "collapsed": true
   },
   "outputs": [],
   "source": [
    "# Calculate predicted values.\n",
    "y_pred = model.predict(X_scaled)"
   ]
  },
  {
   "cell_type": "code",
   "execution_count": 12,
   "metadata": {},
   "outputs": [
    {
     "data": {
      "text/html": [
       "<div>\n",
       "<style scoped>\n",
       "    .dataframe tbody tr th:only-of-type {\n",
       "        vertical-align: middle;\n",
       "    }\n",
       "\n",
       "    .dataframe tbody tr th {\n",
       "        vertical-align: top;\n",
       "    }\n",
       "\n",
       "    .dataframe thead th {\n",
       "        text-align: right;\n",
       "    }\n",
       "</style>\n",
       "<table border=\"1\" class=\"dataframe\">\n",
       "  <thead>\n",
       "    <tr style=\"text-align: right;\">\n",
       "      <th></th>\n",
       "      <th>place_overall</th>\n",
       "      <th>place_gender</th>\n",
       "      <th>bib</th>\n",
       "      <th>name</th>\n",
       "      <th>division</th>\n",
       "      <th>half</th>\n",
       "      <th>finish</th>\n",
       "      <th>country</th>\n",
       "      <th>Cluster</th>\n",
       "    </tr>\n",
       "  </thead>\n",
       "  <tbody>\n",
       "    <tr>\n",
       "      <th>0</th>\n",
       "      <td>1</td>\n",
       "      <td>1</td>\n",
       "      <td>1</td>\n",
       "      <td>Farah, Mo (GBR)</td>\n",
       "      <td>35-39</td>\n",
       "      <td>3786.0</td>\n",
       "      <td>7511.0</td>\n",
       "      <td>GBR</td>\n",
       "      <td>2</td>\n",
       "    </tr>\n",
       "    <tr>\n",
       "      <th>1</th>\n",
       "      <td>2</td>\n",
       "      <td>2</td>\n",
       "      <td>2</td>\n",
       "      <td>Bayih, Mosinet Geremew (ETH)</td>\n",
       "      <td>25-29</td>\n",
       "      <td>3784.0</td>\n",
       "      <td>7524.0</td>\n",
       "      <td>Other</td>\n",
       "      <td>0</td>\n",
       "    </tr>\n",
       "    <tr>\n",
       "      <th>2</th>\n",
       "      <td>3</td>\n",
       "      <td>3</td>\n",
       "      <td>3</td>\n",
       "      <td>Osako, Suguru (JPN)</td>\n",
       "      <td>25-29</td>\n",
       "      <td>3784.0</td>\n",
       "      <td>7550.0</td>\n",
       "      <td>Other</td>\n",
       "      <td>0</td>\n",
       "    </tr>\n",
       "    <tr>\n",
       "      <th>3</th>\n",
       "      <td>4</td>\n",
       "      <td>4</td>\n",
       "      <td>4</td>\n",
       "      <td>Kipkemoi, Kenneth (KEN)</td>\n",
       "      <td>30-34</td>\n",
       "      <td>3784.0</td>\n",
       "      <td>7557.0</td>\n",
       "      <td>Other</td>\n",
       "      <td>0</td>\n",
       "    </tr>\n",
       "    <tr>\n",
       "      <th>4</th>\n",
       "      <td>5</td>\n",
       "      <td>5</td>\n",
       "      <td>5</td>\n",
       "      <td>Rupp, Galen (USA)</td>\n",
       "      <td>30-34</td>\n",
       "      <td>3784.0</td>\n",
       "      <td>7581.0</td>\n",
       "      <td>USA</td>\n",
       "      <td>0</td>\n",
       "    </tr>\n",
       "  </tbody>\n",
       "</table>\n",
       "</div>"
      ],
      "text/plain": [
       "   place_overall  place_gender  bib                          name division  \\\n",
       "0              1             1    1               Farah, Mo (GBR)    35-39   \n",
       "1              2             2    2  Bayih, Mosinet Geremew (ETH)    25-29   \n",
       "2              3             3    3           Osako, Suguru (JPN)    25-29   \n",
       "3              4             4    4       Kipkemoi, Kenneth (KEN)    30-34   \n",
       "4              5             5    5             Rupp, Galen (USA)    30-34   \n",
       "\n",
       "     half  finish country  Cluster  \n",
       "0  3786.0  7511.0     GBR        2  \n",
       "1  3784.0  7524.0   Other        0  \n",
       "2  3784.0  7550.0   Other        0  \n",
       "3  3784.0  7557.0   Other        0  \n",
       "4  3784.0  7581.0     USA        0  "
      ]
     },
     "execution_count": 12,
     "metadata": {},
     "output_type": "execute_result"
    }
   ],
   "source": [
    "# Add prediected values onto the original dataframe\n",
    "df_y = pd.DataFrame(y_pred, columns=['Cluster'])\n",
    "combined = df.join(df_y, how='inner')\n",
    "combined.head()"
   ]
  },
  {
   "cell_type": "code",
   "execution_count": 13,
   "metadata": {},
   "outputs": [
    {
     "data": {
      "text/plain": [
       "<matplotlib.axes._subplots.AxesSubplot at 0x1dc52acebe0>"
      ]
     },
     "execution_count": 13,
     "metadata": {},
     "output_type": "execute_result"
    },
    {
     "data": {
      "image/png": "[encoded data removed]",
      "text/plain": [
       "<matplotlib.figure.Figure at 0x1dc52b896d8>"
      ]
     },
     "metadata": {
      "needs_background": "light"
     },
     "output_type": "display_data"
    }
   ],
   "source": [
    "# Plot boxplots of the official time distributions by cluster\n",
    "combined.boxplot(['finish'], by=['Cluster'])"
   ]
  },
  {
   "cell_type": "code",
   "execution_count": 14,
   "metadata": {},
   "outputs": [
    {
     "data": {
      "text/plain": [
       "<matplotlib.axes._subplots.AxesSubplot at 0x1dc529dc0f0>"
      ]
     },
     "execution_count": 14,
     "metadata": {},
     "output_type": "execute_result"
    },
    {
     "data": {
      "image/png": "[encoded data removed]",
      "text/plain": [
       "<matplotlib.figure.Figure at 0x1dc52a632e8>"
      ]
     },
     "metadata": {
      "needs_background": "light"
     },
     "output_type": "display_data"
    }
   ],
   "source": [
    "# Plot median finish times by division for each cluster\n",
    "combined[combined['Cluster'] == 0].groupby('division').median()['finish'].plot()\n",
    "combined[combined['Cluster'] == 1].groupby('division').median()['finish'].plot()\n",
    "combined[combined['Cluster'] == 2].groupby('division').median()['finish'].plot()"
   ]
  },
  {
   "cell_type": "code",
   "execution_count": null,
   "metadata": {
    "collapsed": true
   },
   "outputs": [],
   "source": []
  }
 ],
 "metadata": {
  "kernelspec": {
   "display_name": "Python 3 (ipykernel)",
   "language": "python",
   "name": "python3"
  },
  "language_info": {
   "codemirror_mode": {
    "name": "ipython",
    "version": 3
   },
   "file_extension": ".py",
   "mimetype": "text/x-python",
   "name": "python",
   "nbconvert_exporter": "python",
   "pygments_lexer": "ipython3",
   "version": "3.9.7"
  }
 },
 "nbformat": 4,
 "nbformat_minor": 2
}
